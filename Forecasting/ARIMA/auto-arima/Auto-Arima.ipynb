{
 "cells": [
  {
   "cell_type": "markdown",
   "metadata": {},
   "source": [
    "**Model Selection Considerations**"
   ]
  },
  {
   "cell_type": "markdown",
   "metadata": {},
   "source": [
    "| Data Assumptions | Assumptions Test |\n",
    "|------|------|\n",
    "|   Univariate Timeseries | N/A|\n",
    "|   Normal Distribution | p-test, visual inspection of histograms, q-q plots, box plots |\n",
    "|   Regular Time Series | domain knowledge/put a groupby on it|\n",
    "\n",
    "- Like most forecasting problems, the uncertainty increases greatly as you predict further into the future. It is best to keep the forecast small. \n",
    "- Also auto-arima takes more time to run beacuse its cycles through every possible parameter combination to find the best ones. Another reason to keep the training set small. ~<1000 points takes ~1m to train on my machine\n",
    "- Best practice includes training on a full seasonal cycle or at least not cutting data in between a season. "
   ]
  },
  {
   "cell_type": "markdown",
   "metadata": {},
   "source": [
    "**Use Cases**\n",
    "- Good for really any type of time series data."
   ]
  },
  {
   "cell_type": "markdown",
   "metadata": {},
   "source": [
    "**Dependencies**"
   ]
  },
  {
   "cell_type": "code",
   "execution_count": 165,
   "metadata": {},
   "outputs": [],
   "source": [
    "import pandas as pd\n",
    "import matplotlib.pyplot as plt "
   ]
  },
  {
   "cell_type": "code",
   "execution_count": 166,
   "metadata": {},
   "outputs": [],
   "source": [
    "from sklearn.metrics import mean_squared_error\n",
    "import matplotlib.pyplot as plt\n",
    "import numpy as np\n",
    "import pmdarima as pm\n",
    "from pmdarima.arima import auto_arima\n",
    "from pmdarima import model_selection\n",
    "from pmdarima.pipeline import Pipeline"
   ]
  },
  {
   "cell_type": "markdown",
   "metadata": {},
   "source": [
    "**Load Data**"
   ]
  },
  {
   "cell_type": "code",
   "execution_count": 43,
   "metadata": {},
   "outputs": [
    {
     "data": {
      "text/html": [
       "<div>\n",
       "<style scoped>\n",
       "    .dataframe tbody tr th:only-of-type {\n",
       "        vertical-align: middle;\n",
       "    }\n",
       "\n",
       "    .dataframe tbody tr th {\n",
       "        vertical-align: top;\n",
       "    }\n",
       "\n",
       "    .dataframe thead th {\n",
       "        text-align: right;\n",
       "    }\n",
       "</style>\n",
       "<table border=\"1\" class=\"dataframe\">\n",
       "  <thead>\n",
       "    <tr style=\"text-align: right;\">\n",
       "      <th></th>\n",
       "      <th>ds</th>\n",
       "      <th>y</th>\n",
       "    </tr>\n",
       "  </thead>\n",
       "  <tbody>\n",
       "    <tr>\n",
       "      <td>0</td>\n",
       "      <td>2007-12-10</td>\n",
       "      <td>9.590761</td>\n",
       "    </tr>\n",
       "    <tr>\n",
       "      <td>1</td>\n",
       "      <td>2007-12-11</td>\n",
       "      <td>8.519590</td>\n",
       "    </tr>\n",
       "    <tr>\n",
       "      <td>2</td>\n",
       "      <td>2007-12-12</td>\n",
       "      <td>8.183677</td>\n",
       "    </tr>\n",
       "    <tr>\n",
       "      <td>3</td>\n",
       "      <td>2007-12-13</td>\n",
       "      <td>8.072467</td>\n",
       "    </tr>\n",
       "    <tr>\n",
       "      <td>4</td>\n",
       "      <td>2007-12-14</td>\n",
       "      <td>7.893572</td>\n",
       "    </tr>\n",
       "  </tbody>\n",
       "</table>\n",
       "</div>"
      ],
      "text/plain": [
       "           ds         y\n",
       "0  2007-12-10  9.590761\n",
       "1  2007-12-11  8.519590\n",
       "2  2007-12-12  8.183677\n",
       "3  2007-12-13  8.072467\n",
       "4  2007-12-14  7.893572"
      ]
     },
     "execution_count": 43,
     "metadata": {},
     "output_type": "execute_result"
    }
   ],
   "source": [
    "df = pd.read_csv('data/example_wp_log_peyton_manning.csv')\n",
    "df.head()"
   ]
  },
  {
   "cell_type": "code",
   "execution_count": 44,
   "metadata": {},
   "outputs": [
    {
     "data": {
      "text/plain": [
       "<matplotlib.axes._subplots.AxesSubplot at 0x135652ef0>"
      ]
     },
     "execution_count": 44,
     "metadata": {},
     "output_type": "execute_result"
    },
    {
     "data": {
      "image/png": "[encoded data removed]",
      "text/plain": [
       "<Figure size 432x288 with 1 Axes>"
      ]
     },
     "metadata": {
      "needs_background": "light"
     },
     "output_type": "display_data"
    }
   ],
   "source": [
    "df.plot()"
   ]
  },
  {
   "cell_type": "code",
   "execution_count": 45,
   "metadata": {},
   "outputs": [
    {
     "data": {
      "text/html": [
       "<div>\n",
       "<style scoped>\n",
       "    .dataframe tbody tr th:only-of-type {\n",
       "        vertical-align: middle;\n",
       "    }\n",
       "\n",
       "    .dataframe tbody tr th {\n",
       "        vertical-align: top;\n",
       "    }\n",
       "\n",
       "    .dataframe thead th {\n",
       "        text-align: right;\n",
       "    }\n",
       "</style>\n",
       "<table border=\"1\" class=\"dataframe\">\n",
       "  <thead>\n",
       "    <tr style=\"text-align: right;\">\n",
       "      <th></th>\n",
       "      <th>ds</th>\n",
       "      <th>y</th>\n",
       "    </tr>\n",
       "  </thead>\n",
       "  <tbody>\n",
       "    <tr>\n",
       "      <td>576</td>\n",
       "      <td>2009-08-06</td>\n",
       "      <td>8.172164</td>\n",
       "    </tr>\n",
       "    <tr>\n",
       "      <td>577</td>\n",
       "      <td>2009-08-07</td>\n",
       "      <td>7.811568</td>\n",
       "    </tr>\n",
       "    <tr>\n",
       "      <td>578</td>\n",
       "      <td>2009-08-08</td>\n",
       "      <td>7.575072</td>\n",
       "    </tr>\n",
       "    <tr>\n",
       "      <td>579</td>\n",
       "      <td>2009-08-09</td>\n",
       "      <td>7.658700</td>\n",
       "    </tr>\n",
       "    <tr>\n",
       "      <td>580</td>\n",
       "      <td>2009-08-10</td>\n",
       "      <td>7.866339</td>\n",
       "    </tr>\n",
       "  </tbody>\n",
       "</table>\n",
       "</div>"
      ],
      "text/plain": [
       "             ds         y\n",
       "576  2009-08-06  8.172164\n",
       "577  2009-08-07  7.811568\n",
       "578  2009-08-08  7.575072\n",
       "579  2009-08-09  7.658700\n",
       "580  2009-08-10  7.866339"
      ]
     },
     "execution_count": 45,
     "metadata": {},
     "output_type": "execute_result"
    }
   ],
   "source": [
    "#split dataset into smaller dataset for forecasting\n",
    "df = df[:(int(len(df)*.2))]\n",
    "df.tail()"
   ]
  },
  {
   "cell_type": "markdown",
   "metadata": {},
   "source": [
    "# **Data Preperation: Required Inputs and Format**\n",
    "- Dataframe with one column of dependent values\n",
    "- (Required) y : array-like or iterable, shape=(n_samples,)\n",
    "            The time-series to which to fit the ``ARIMA`` estimator. This may\n",
    "            either be a Pandas ``Series`` object (statsmodels can internally\n",
    "            use the dates in the index), or a numpy array. This should be a\n",
    "            one-dimensional array of floats, and should not contain any\n",
    "            ``np.nan`` or ``np.inf`` values. \n",
    "- Don't train on an incomplete cycle preferably "
   ]
  },
  {
   "cell_type": "code",
   "execution_count": 46,
   "metadata": {},
   "outputs": [
    {
     "name": "stdout",
     "output_type": "stream",
     "text": [
      "len dataset:581\n"
     ]
    },
    {
     "name": "stderr",
     "output_type": "stream",
     "text": [
      "/Users/anaisdotis-georgiou/anaconda3/lib/python3.6/site-packages/pandas/core/frame.py:4102: SettingWithCopyWarning: \n",
      "A value is trying to be set on a copy of a slice from a DataFrame\n",
      "\n",
      "See the caveats in the documentation: http://pandas.pydata.org/pandas-docs/stable/user_guide/indexing.html#returning-a-view-versus-a-copy\n",
      "  errors=errors,\n"
     ]
    },
    {
     "data": {
      "text/html": [
       "<div>\n",
       "<style scoped>\n",
       "    .dataframe tbody tr th:only-of-type {\n",
       "        vertical-align: middle;\n",
       "    }\n",
       "\n",
       "    .dataframe tbody tr th {\n",
       "        vertical-align: top;\n",
       "    }\n",
       "\n",
       "    .dataframe thead th {\n",
       "        text-align: right;\n",
       "    }\n",
       "</style>\n",
       "<table border=\"1\" class=\"dataframe\">\n",
       "  <thead>\n",
       "    <tr style=\"text-align: right;\">\n",
       "      <th></th>\n",
       "      <th>y</th>\n",
       "    </tr>\n",
       "  </thead>\n",
       "  <tbody>\n",
       "    <tr>\n",
       "      <td>0</td>\n",
       "      <td>9.590761</td>\n",
       "    </tr>\n",
       "    <tr>\n",
       "      <td>1</td>\n",
       "      <td>8.519590</td>\n",
       "    </tr>\n",
       "    <tr>\n",
       "      <td>2</td>\n",
       "      <td>8.183677</td>\n",
       "    </tr>\n",
       "    <tr>\n",
       "      <td>3</td>\n",
       "      <td>8.072467</td>\n",
       "    </tr>\n",
       "    <tr>\n",
       "      <td>4</td>\n",
       "      <td>7.893572</td>\n",
       "    </tr>\n",
       "  </tbody>\n",
       "</table>\n",
       "</div>"
      ],
      "text/plain": [
       "          y\n",
       "0  9.590761\n",
       "1  8.519590\n",
       "2  8.183677\n",
       "3  8.072467\n",
       "4  7.893572"
      ]
     },
     "execution_count": 46,
     "metadata": {},
     "output_type": "execute_result"
    }
   ],
   "source": [
    "#preprocessing (since arima takes univariate series as input)\n",
    "df.drop('ds',axis=1,inplace=True)\n",
    "print('len dataset:' + str(len(df)))\n",
    "df.head()"
   ]
  },
  {
   "cell_type": "code",
   "execution_count": 47,
   "metadata": {},
   "outputs": [],
   "source": [
    "#conver data into array although the dataframe works as well \n",
    "data = df.values"
   ]
  },
  {
   "cell_type": "code",
   "execution_count": 51,
   "metadata": {},
   "outputs": [],
   "source": [
    "#divide into train and validation set\n",
    "ts=450\n",
    "train, test = model_selection.train_test_split(data, train_size=ts)"
   ]
  },
  {
   "cell_type": "code",
   "execution_count": 52,
   "metadata": {},
   "outputs": [
    {
     "data": {
      "text/plain": [
       "[<matplotlib.lines.Line2D at 0x167bb2710>]"
      ]
     },
     "execution_count": 52,
     "metadata": {},
     "output_type": "execute_result"
    },
    {
     "data": {
      "image/png": "[encoded data removed]",
      "text/plain": [
       "<Figure size 432x288 with 1 Axes>"
      ]
     },
     "metadata": {
      "needs_background": "light"
     },
     "output_type": "display_data"
    }
   ],
   "source": [
    "#plotting the data for vis purposes\n",
    "x_data = range(len(data))\n",
    "plt.plot(x_data[:ts], train[:])\n",
    "plt.plot(x_data[ts:], test[:])"
   ]
  },
  {
   "cell_type": "markdown",
   "metadata": {},
   "source": [
    "**Optional Inputs**\n",
    "- exogenous : array-like, shape=[n_obs, n_vars], optional (default=None)\n",
    "            An optional 2-d array of exogenous variables. If provided, these\n",
    "            variables are used as additional features in the regression\n",
    "            operation. This should not include a constant or trend. Note that\n",
    "            if an ``ARIMA`` is fit on exogenous features, it must be provided\n",
    "            exogenous features for making predictions.\n",
    "- exogenous definition: An independent variable that affects a model without being affected by it, and whose qualitative characteristics and method of generation are not specified by the model builder. I.E. if you wanted to model the temperature of a soup in a pot, the preprogrammed temperature of the hot plate would be the exogenous variable. \n",
    "- Tons of optional arguments listed [here](https://github.com/alkaline-ml/pmdarima/blob/b79db3111e087e6a6a2181de1f267fcd2d953079/pmdarima/arima/auto.py#L69) (source) and [here](https://pkg.robjhyndman.com/forecast/reference/auto.arima.html) (documentation). However, auto-arima should be able to find all of those parameters for you, so you don't have to explicitly define them. \n",
    "- My recommendation is to just include the following as optional arguments:\n",
    "\n",
    "`(m=1, seasonal=True, stationary=False, trace=True, error_action='ignore', suppress_warnings=True)`\n",
    "- With advance options to change the rest of the parameters (defaults inclueded):\n",
    "\n",
    "`(exogeneous=None, start_p=2, d=None, start_q=2, max_p=5, max_d=2, start_P=1, D=None, start_Q=1, max_P=2, max_D=1, max_Q=2,max_order=10, information_criterion='aic',alpha=0.05,test='kpss',seasonal_test='ch',stepwise=True, n_jobs=1, start_params=None, transparams=True,method=None, trend='c', solver=None, maxiter=50, out_of_sample_size=0, scoring='mse')`"
   ]
  },
  {
   "cell_type": "markdown",
   "metadata": {},
   "source": [
    "**Input Defaults**\n",
    "- just a the dependent variable"
   ]
  },
  {
   "cell_type": "markdown",
   "metadata": {},
   "source": [
    "# **Minimal Output**\n",
    "- Plain forecast without exogeneous series"
   ]
  },
  {
   "cell_type": "code",
   "execution_count": 53,
   "metadata": {},
   "outputs": [],
   "source": [
    "# Fit a simple auto_arima model\n",
    "from pmdarima.arima import auto_arima\n",
    "model = pm.auto_arima(train, seasonal=True, stationary=False,\n",
    "                     stepwise=True, suppress_warnings=True, m=12,\n",
    "                     error_action='ignore')"
   ]
  },
  {
   "cell_type": "code",
   "execution_count": 55,
   "metadata": {},
   "outputs": [
    {
     "name": "stdout",
     "output_type": "stream",
     "text": [
      "Test RMSE: 0.296\n"
     ]
    },
    {
     "data": {
      "text/plain": [
       "Text(0.5, 0, 'Counter')"
      ]
     },
     "execution_count": 55,
     "metadata": {},
     "output_type": "execute_result"
    },
    {
     "data": {
      "image/png": "[encoded data removed]",
      "text/plain": [
       "<Figure size 432x288 with 1 Axes>"
      ]
     },
     "metadata": {
      "needs_background": "light"
     },
     "output_type": "display_data"
    }
   ],
   "source": [
    "preds, conf_int = model.predict(n_periods=test.shape[0], return_conf_int=True)\n",
    "# Print the error:\n",
    "print(\"Test RMSE: %.3f\" % np.sqrt(mean_squared_error(test, preds)))\n",
    "\n",
    "# #############################################################################\n",
    "# Plot the points and the forecasts\n",
    "x_axis = np.arange(train.shape[0] + preds.shape[0])\n",
    "\n",
    "plt.plot(x_axis[:train.shape[0]], train, alpha=0.75)\n",
    "plt.plot(x_axis[train.shape[0]:], preds, alpha=0.75)  # Forecasts\n",
    "plt.scatter(x_axis[train.shape[0]:], test,\n",
    "            alpha=0.4, marker='x')  # Test data\n",
    "plt.fill_between(x_axis[-preds.shape[0]:],\n",
    "                 conf_int[:, 0], conf_int[:, 1],\n",
    "                 alpha=0.1, color='b')\n",
    "plt.title(\"Auto-arima forecasts\")\n",
    "plt.xlabel(\"Counter\")"
   ]
  },
  {
   "cell_type": "code",
   "execution_count": 59,
   "metadata": {},
   "outputs": [
    {
     "data": {
      "text/html": [
       "<div>\n",
       "<style scoped>\n",
       "    .dataframe tbody tr th:only-of-type {\n",
       "        vertical-align: middle;\n",
       "    }\n",
       "\n",
       "    .dataframe tbody tr th {\n",
       "        vertical-align: top;\n",
       "    }\n",
       "\n",
       "    .dataframe thead th {\n",
       "        text-align: right;\n",
       "    }\n",
       "</style>\n",
       "<table border=\"1\" class=\"dataframe\">\n",
       "  <thead>\n",
       "    <tr style=\"text-align: right;\">\n",
       "      <th></th>\n",
       "      <th>Prediction</th>\n",
       "    </tr>\n",
       "  </thead>\n",
       "  <tbody>\n",
       "    <tr>\n",
       "      <td>126</td>\n",
       "      <td>7.162686</td>\n",
       "    </tr>\n",
       "    <tr>\n",
       "      <td>127</td>\n",
       "      <td>7.160198</td>\n",
       "    </tr>\n",
       "    <tr>\n",
       "      <td>128</td>\n",
       "      <td>7.157393</td>\n",
       "    </tr>\n",
       "    <tr>\n",
       "      <td>129</td>\n",
       "      <td>7.155969</td>\n",
       "    </tr>\n",
       "    <tr>\n",
       "      <td>130</td>\n",
       "      <td>7.153794</td>\n",
       "    </tr>\n",
       "  </tbody>\n",
       "</table>\n",
       "</div>"
      ],
      "text/plain": [
       "     Prediction\n",
       "126    7.162686\n",
       "127    7.160198\n",
       "128    7.157393\n",
       "129    7.155969\n",
       "130    7.153794"
      ]
     },
     "execution_count": 59,
     "metadata": {},
     "output_type": "execute_result"
    }
   ],
   "source": [
    "#What a plain forecast output would look like without appending to validation set. The actual output we would get assuming evaluation would happen in a seperate image. \n",
    "forecast = model.predict(n_periods=(len(test)))\n",
    "forecast = pd.DataFrame(forecast, columns=['Prediction'])\n",
    "forecast.tail()\n"
   ]
  },
  {
   "cell_type": "markdown",
   "metadata": {},
   "source": [
    "# **Model Considerations**\n",
    "- taking a look at the distribution of our data, normalizing it, and applying a new fit"
   ]
  },
  {
   "cell_type": "code",
   "execution_count": 110,
   "metadata": {},
   "outputs": [
    {
     "data": {
      "image/png": "[encoded data removed]",
      "text/plain": [
       "<Figure size 576x432 with 3 Axes>"
      ]
     },
     "metadata": {
      "needs_background": "light"
     },
     "output_type": "display_data"
    }
   ],
   "source": [
    "from pmdarima.utils import tsdisplay\n",
    "tsdisplay(train, lag_max=100)"
   ]
  },
  {
   "cell_type": "code",
   "execution_count": 65,
   "metadata": {},
   "outputs": [
    {
     "name": "stdout",
     "output_type": "stream",
     "text": [
      "Performing stepwise search to minimize aic\n",
      "Fit ARIMA: (2, 1, 2)x(1, 0, 1, 12) (constant=True); AIC=431.511, BIC=464.368, Time=1.226 seconds\n",
      "Fit ARIMA: (0, 1, 0)x(0, 0, 0, 12) (constant=True); AIC=529.603, BIC=537.817, Time=0.047 seconds\n",
      "Fit ARIMA: (1, 1, 0)x(1, 0, 0, 12) (constant=True); AIC=521.399, BIC=537.827, Time=0.151 seconds\n",
      "Fit ARIMA: (0, 1, 1)x(0, 0, 1, 12) (constant=True); AIC=513.767, BIC=530.195, Time=0.263 seconds\n",
      "Fit ARIMA: (0, 1, 0)x(0, 0, 0, 12) (constant=False); AIC=527.655, BIC=531.762, Time=0.013 seconds\n",
      "Fit ARIMA: (2, 1, 2)x(0, 0, 1, 12) (constant=True); AIC=431.573, BIC=460.323, Time=1.116 seconds\n",
      "Fit ARIMA: (2, 1, 2)x(1, 0, 0, 12) (constant=True); AIC=432.607, BIC=461.357, Time=1.292 seconds\n",
      "Fit ARIMA: (2, 1, 2)x(2, 0, 1, 12) (constant=True); AIC=431.869, BIC=468.832, Time=4.499 seconds\n",
      "Fit ARIMA: (2, 1, 2)x(1, 0, 2, 12) (constant=True); AIC=432.074, BIC=469.038, Time=4.758 seconds\n",
      "Fit ARIMA: (2, 1, 2)x(0, 0, 0, 12) (constant=True); AIC=439.946, BIC=464.588, Time=0.333 seconds\n",
      "Fit ARIMA: (2, 1, 2)x(0, 0, 2, 12) (constant=True); AIC=433.183, BIC=466.039, Time=2.726 seconds\n",
      "Fit ARIMA: (2, 1, 2)x(2, 0, 0, 12) (constant=True); AIC=434.873, BIC=467.729, Time=3.698 seconds\n",
      "Fit ARIMA: (2, 1, 2)x(2, 0, 2, 12) (constant=True); AIC=434.970, BIC=476.040, Time=4.273 seconds\n",
      "Fit ARIMA: (1, 1, 2)x(1, 0, 1, 12) (constant=True); AIC=429.781, BIC=458.531, Time=1.102 seconds\n",
      "Fit ARIMA: (1, 1, 2)x(0, 0, 1, 12) (constant=True); AIC=434.893, BIC=459.535, Time=0.721 seconds\n",
      "Fit ARIMA: (1, 1, 2)x(1, 0, 0, 12) (constant=True); AIC=436.122, BIC=460.764, Time=0.675 seconds\n",
      "Fit ARIMA: (1, 1, 2)x(2, 0, 1, 12) (constant=True); AIC=431.743, BIC=464.599, Time=3.371 seconds\n",
      "Fit ARIMA: (1, 1, 2)x(1, 0, 2, 12) (constant=True); AIC=431.735, BIC=464.591, Time=3.382 seconds\n",
      "Fit ARIMA: (1, 1, 2)x(0, 0, 0, 12) (constant=True); AIC=438.831, BIC=459.366, Time=0.233 seconds\n",
      "Fit ARIMA: (1, 1, 2)x(0, 0, 2, 12) (constant=True); AIC=432.004, BIC=460.753, Time=2.172 seconds\n",
      "Fit ARIMA: (1, 1, 2)x(2, 0, 0, 12) (constant=True); AIC=433.708, BIC=462.458, Time=1.841 seconds\n",
      "Fit ARIMA: (1, 1, 2)x(2, 0, 2, 12) (constant=True); AIC=433.793, BIC=470.756, Time=4.130 seconds\n",
      "Fit ARIMA: (0, 1, 2)x(1, 0, 1, 12) (constant=True); AIC=431.393, BIC=456.035, Time=1.010 seconds\n",
      "Fit ARIMA: (1, 1, 1)x(1, 0, 1, 12) (constant=True); AIC=446.097, BIC=470.739, Time=1.224 seconds\n",
      "Fit ARIMA: (1, 1, 3)x(1, 0, 1, 12) (constant=True); AIC=430.982, BIC=463.838, Time=1.742 seconds\n",
      "Fit ARIMA: (0, 1, 1)x(1, 0, 1, 12) (constant=True); AIC=509.981, BIC=530.516, Time=0.644 seconds\n",
      "Fit ARIMA: (0, 1, 3)x(1, 0, 1, 12) (constant=True); AIC=429.166, BIC=457.915, Time=1.494 seconds\n",
      "Fit ARIMA: (0, 1, 3)x(0, 0, 1, 12) (constant=True); AIC=433.876, BIC=458.518, Time=0.697 seconds\n",
      "Fit ARIMA: (0, 1, 3)x(1, 0, 0, 12) (constant=True); AIC=435.072, BIC=459.714, Time=0.448 seconds\n",
      "Fit ARIMA: (0, 1, 3)x(2, 0, 1, 12) (constant=True); AIC=431.145, BIC=464.001, Time=3.576 seconds\n",
      "Fit ARIMA: (0, 1, 3)x(1, 0, 2, 12) (constant=True); AIC=431.143, BIC=463.999, Time=4.093 seconds\n",
      "Fit ARIMA: (0, 1, 3)x(0, 0, 0, 12) (constant=True); AIC=438.060, BIC=458.595, Time=0.207 seconds\n",
      "Fit ARIMA: (0, 1, 3)x(0, 0, 2, 12) (constant=True); AIC=431.521, BIC=460.270, Time=1.862 seconds\n",
      "Fit ARIMA: (0, 1, 3)x(2, 0, 0, 12) (constant=True); AIC=433.201, BIC=461.950, Time=1.670 seconds\n",
      "Fit ARIMA: (0, 1, 3)x(2, 0, 2, 12) (constant=True); AIC=433.097, BIC=470.060, Time=4.834 seconds\n",
      "Fit ARIMA: (0, 1, 4)x(1, 0, 1, 12) (constant=True); AIC=430.437, BIC=463.293, Time=1.615 seconds\n",
      "Fit ARIMA: (1, 1, 4)x(1, 0, 1, 12) (constant=True); AIC=432.271, BIC=469.234, Time=1.798 seconds\n",
      "Total fit time: 68.983 seconds\n"
     ]
    }
   ],
   "source": [
    "fit1 = pm.auto_arima(train, m=12, trace=True, suppress_warnings=True)"
   ]
  },
  {
   "cell_type": "code",
   "execution_count": 116,
   "metadata": {},
   "outputs": [
    {
     "data": {
      "image/png": "[encoded data removed]",
      "text/plain": [
       "<Figure size 576x432 with 3 Axes>"
      ]
     },
     "metadata": {
      "needs_background": "light"
     },
     "output_type": "display_data"
    }
   ],
   "source": [
    "from pmdarima.preprocessing import BoxCoxEndogTransformer\n",
    "\n",
    "train_bc, _ = BoxCoxEndogTransformer().fit_transform(train)\n",
    "tsdisplay(train_bc, lag_max=100)"
   ]
  },
  {
   "cell_type": "code",
   "execution_count": 113,
   "metadata": {},
   "outputs": [
    {
     "name": "stdout",
     "output_type": "stream",
     "text": [
      "Performing stepwise search to minimize aic\n",
      "Fit ARIMA: (2, 1, 2)x(1, 0, 1, 12) (constant=True); AIC=nan, BIC=nan, Time=nan seconds\n",
      "Fit ARIMA: (0, 1, 0)x(0, 0, 0, 12) (constant=True); AIC=nan, BIC=nan, Time=0.073 seconds\n",
      "Fit ARIMA: (1, 1, 0)x(1, 0, 0, 12) (constant=True); AIC=nan, BIC=nan, Time=nan seconds\n",
      "Fit ARIMA: (0, 1, 1)x(0, 0, 1, 12) (constant=True); AIC=nan, BIC=nan, Time=nan seconds\n",
      "Fit ARIMA: (0, 1, 0)x(0, 0, 0, 12) (constant=False); AIC=nan, BIC=nan, Time=0.055 seconds\n",
      "Fit ARIMA: (0, 1, 0)x(1, 0, 0, 12) (constant=True); AIC=nan, BIC=nan, Time=nan seconds\n",
      "Fit ARIMA: (0, 1, 0)x(0, 0, 1, 12) (constant=True); AIC=nan, BIC=nan, Time=nan seconds\n",
      "Fit ARIMA: (0, 1, 0)x(1, 0, 1, 12) (constant=True); AIC=nan, BIC=nan, Time=nan seconds\n",
      "Fit ARIMA: (1, 1, 0)x(0, 0, 0, 12) (constant=True); AIC=nan, BIC=nan, Time=0.101 seconds\n",
      "Fit ARIMA: (0, 1, 1)x(0, 0, 0, 12) (constant=True); AIC=nan, BIC=nan, Time=nan seconds\n",
      "Fit ARIMA: (1, 1, 1)x(0, 0, 0, 12) (constant=True); AIC=nan, BIC=nan, Time=0.138 seconds\n",
      "Total fit time: 3.691 seconds\n"
     ]
    },
    {
     "data": {
      "text/plain": [
       "Pipeline(steps=[('boxcox',\n",
       "                 BoxCoxEndogTransformer(floor=1e-16, lmbda=None, lmbda2=0,\n",
       "                                        neg_action='raise')),\n",
       "                ('arima',\n",
       "                 AutoARIMA(D=None, alpha=0.05, d=None, error_action='ignore',\n",
       "                           information_criterion='aic', m=12, max_D=1, max_P=2,\n",
       "                           max_Q=2, max_d=2, max_order=5, max_p=5, max_q=5,\n",
       "                           maxiter=50, method='lbfgs', n_fits=10, n_jobs=1,\n",
       "                           offset_test_args=None, out_of_sample_size=0,\n",
       "                           random=False, random_state=None, scoring='mse',\n",
       "                           scoring_args=None, seasonal=True,\n",
       "                           seasonal_test='ocsb', seasonal_test_args=None,\n",
       "                           start_P=1, start_Q=1, start_p=2, start_params=None, ...))])"
      ]
     },
     "execution_count": 113,
     "metadata": {},
     "output_type": "execute_result"
    }
   ],
   "source": [
    "from pmdarima.pipeline import Pipeline\n",
    "\n",
    "fit2 = Pipeline([\n",
    "    ('boxcox', BoxCoxEndogTransformer()),\n",
    "    ('arima', pm.AutoARIMA(trace=True,\n",
    "                           suppress_warnings=True,\n",
    "                           m=12,\n",
    "                           error_action=\"ignore\"))\n",
    "])\n",
    "\n",
    "fit2.fit(train)"
   ]
  },
  {
   "cell_type": "code",
   "execution_count": 120,
   "metadata": {},
   "outputs": [
    {
     "name": "stdout",
     "output_type": "stream",
     "text": [
      "Test RMSE: 0.285\n"
     ]
    },
    {
     "data": {
      "text/plain": [
       "Text(0.5, 0, 'Counter')"
      ]
     },
     "execution_count": 120,
     "metadata": {},
     "output_type": "execute_result"
    },
    {
     "data": {
      "image/png": "[encoded data removed]",
      "text/plain": [
       "<Figure size 432x288 with 1 Axes>"
      ]
     },
     "metadata": {
      "needs_background": "light"
     },
     "output_type": "display_data"
    }
   ],
   "source": [
    "preds = fit2.predict(n_periods=test.shape[0])\n",
    "# Print the error:\n",
    "print(\"Test RMSE: %.3f\" % np.sqrt(mean_squared_error(test, preds)))\n",
    "\n",
    "# #############################################################################\n",
    "# Plot the points and the forecasts\n",
    "x_axis = np.arange(train.shape[0] + preds.shape[0])\n",
    "\n",
    "plt.plot(x_axis[:train.shape[0]], train, alpha=0.75)\n",
    "plt.plot(x_axis[train.shape[0]:], preds, alpha=0.75)  # Forecasts\n",
    "plt.scatter(x_axis[train.shape[0]:], test,\n",
    "            alpha=0.4, marker='x')  # Test data\n",
    "plt.title(\"Auto-arima forecasts\")\n",
    "plt.xlabel(\"Counter\")"
   ]
  },
  {
   "cell_type": "markdown",
   "metadata": {},
   "source": [
    "**Notice how the RMSE is lower** \n",
    "- this is not an excellent example of the benefit of boxcox transformation because the part of the data that we're performing the forecast onto matches the skew. However I still believe that offering the ability to apply a boxcox transformation would be useful and at the very least shiny"
   ]
  },
  {
   "cell_type": "code",
   "execution_count": 127,
   "metadata": {},
   "outputs": [
    {
     "data": {
      "text/html": [
       "<div>\n",
       "<style scoped>\n",
       "    .dataframe tbody tr th:only-of-type {\n",
       "        vertical-align: middle;\n",
       "    }\n",
       "\n",
       "    .dataframe tbody tr th {\n",
       "        vertical-align: top;\n",
       "    }\n",
       "\n",
       "    .dataframe thead th {\n",
       "        text-align: right;\n",
       "    }\n",
       "</style>\n",
       "<table border=\"1\" class=\"dataframe\">\n",
       "  <thead>\n",
       "    <tr style=\"text-align: right;\">\n",
       "      <th></th>\n",
       "      <th>Prediction</th>\n",
       "    </tr>\n",
       "  </thead>\n",
       "  <tbody>\n",
       "    <tr>\n",
       "      <td>0</td>\n",
       "      <td>7.479793</td>\n",
       "    </tr>\n",
       "    <tr>\n",
       "      <td>1</td>\n",
       "      <td>7.477471</td>\n",
       "    </tr>\n",
       "    <tr>\n",
       "      <td>2</td>\n",
       "      <td>7.475154</td>\n",
       "    </tr>\n",
       "    <tr>\n",
       "      <td>3</td>\n",
       "      <td>7.472841</td>\n",
       "    </tr>\n",
       "    <tr>\n",
       "      <td>4</td>\n",
       "      <td>7.470532</td>\n",
       "    </tr>\n",
       "  </tbody>\n",
       "</table>\n",
       "</div>"
      ],
      "text/plain": [
       "   Prediction\n",
       "0    7.479793\n",
       "1    7.477471\n",
       "2    7.475154\n",
       "3    7.472841\n",
       "4    7.470532"
      ]
     },
     "execution_count": 127,
     "metadata": {},
     "output_type": "execute_result"
    }
   ],
   "source": [
    "# example of prediction output--notice how the values have shifted to the right\n",
    "bc_forecast = pd.DataFrame(preds, columns=['Prediction'])\n",
    "bc_forecast.head()"
   ]
  },
  {
   "cell_type": "markdown",
   "metadata": {},
   "source": [
    "# **Example of ARIMAX: Addition of exogenous series**"
   ]
  },
  {
   "cell_type": "code",
   "execution_count": 167,
   "metadata": {},
   "outputs": [],
   "source": [
    "import pmdarima as pm\n",
    "from pmdarima.arima import auto_arima\n",
    "from pmdarima import model_selection\n",
    "from pmdarima.pipeline import Pipeline\n",
    "from pmdarima.datasets import load_msft"
   ]
  },
  {
   "cell_type": "code",
   "execution_count": 168,
   "metadata": {},
   "outputs": [
    {
     "name": "stdout",
     "output_type": "stream",
     "text": [
      "len:7983\n"
     ]
    },
    {
     "data": {
      "text/html": [
       "<div>\n",
       "<style scoped>\n",
       "    .dataframe tbody tr th:only-of-type {\n",
       "        vertical-align: middle;\n",
       "    }\n",
       "\n",
       "    .dataframe tbody tr th {\n",
       "        vertical-align: top;\n",
       "    }\n",
       "\n",
       "    .dataframe thead th {\n",
       "        text-align: right;\n",
       "    }\n",
       "</style>\n",
       "<table border=\"1\" class=\"dataframe\">\n",
       "  <thead>\n",
       "    <tr style=\"text-align: right;\">\n",
       "      <th></th>\n",
       "      <th>Date</th>\n",
       "      <th>Open</th>\n",
       "      <th>High</th>\n",
       "      <th>Low</th>\n",
       "      <th>Close</th>\n",
       "      <th>Volume</th>\n",
       "      <th>OpenInt</th>\n",
       "    </tr>\n",
       "  </thead>\n",
       "  <tbody>\n",
       "    <tr>\n",
       "      <td>0</td>\n",
       "      <td>1986-03-13</td>\n",
       "      <td>0.06720</td>\n",
       "      <td>0.07533</td>\n",
       "      <td>0.06720</td>\n",
       "      <td>0.07533</td>\n",
       "      <td>1371330506</td>\n",
       "      <td>0</td>\n",
       "    </tr>\n",
       "    <tr>\n",
       "      <td>1</td>\n",
       "      <td>1986-03-14</td>\n",
       "      <td>0.07533</td>\n",
       "      <td>0.07533</td>\n",
       "      <td>0.07533</td>\n",
       "      <td>0.07533</td>\n",
       "      <td>409569463</td>\n",
       "      <td>0</td>\n",
       "    </tr>\n",
       "    <tr>\n",
       "      <td>2</td>\n",
       "      <td>1986-03-17</td>\n",
       "      <td>0.07533</td>\n",
       "      <td>0.07533</td>\n",
       "      <td>0.07533</td>\n",
       "      <td>0.07533</td>\n",
       "      <td>176995245</td>\n",
       "      <td>0</td>\n",
       "    </tr>\n",
       "    <tr>\n",
       "      <td>3</td>\n",
       "      <td>1986-03-18</td>\n",
       "      <td>0.07533</td>\n",
       "      <td>0.07533</td>\n",
       "      <td>0.07533</td>\n",
       "      <td>0.07533</td>\n",
       "      <td>90067008</td>\n",
       "      <td>0</td>\n",
       "    </tr>\n",
       "    <tr>\n",
       "      <td>4</td>\n",
       "      <td>1986-03-19</td>\n",
       "      <td>0.07533</td>\n",
       "      <td>0.07533</td>\n",
       "      <td>0.07533</td>\n",
       "      <td>0.07533</td>\n",
       "      <td>63655515</td>\n",
       "      <td>0</td>\n",
       "    </tr>\n",
       "  </tbody>\n",
       "</table>\n",
       "</div>"
      ],
      "text/plain": [
       "         Date     Open     High      Low    Close      Volume  OpenInt\n",
       "0  1986-03-13  0.06720  0.07533  0.06720  0.07533  1371330506        0\n",
       "1  1986-03-14  0.07533  0.07533  0.07533  0.07533   409569463        0\n",
       "2  1986-03-17  0.07533  0.07533  0.07533  0.07533   176995245        0\n",
       "3  1986-03-18  0.07533  0.07533  0.07533  0.07533    90067008        0\n",
       "4  1986-03-19  0.07533  0.07533  0.07533  0.07533    63655515        0"
      ]
     },
     "execution_count": 168,
     "metadata": {},
     "output_type": "execute_result"
    }
   ],
   "source": [
    "msft = load_msft()\n",
    "print(f\"len:{len(msft)}\")\n",
    "msft.head()"
   ]
  },
  {
   "cell_type": "code",
   "execution_count": 169,
   "metadata": {},
   "outputs": [
    {
     "data": {
      "text/plain": [
       "array([0.0672, 0.07533, 0.0672, 0.07533], dtype=object)"
      ]
     },
     "execution_count": 169,
     "metadata": {},
     "output_type": "execute_result"
    }
   ],
   "source": [
    "data = msft.values\n",
    "data[0,1:5]"
   ]
  },
  {
   "cell_type": "code",
   "execution_count": 201,
   "metadata": {},
   "outputs": [],
   "source": [
    "#with dataframe\n",
    "train, test = model_selection.train_test_split(msft, train_size=7000)"
   ]
  },
  {
   "cell_type": "code",
   "execution_count": 170,
   "metadata": {},
   "outputs": [],
   "source": [
    "#with nparray\n",
    "train, test = model_selection.train_test_split(data, train_size=7000)"
   ]
  },
  {
   "cell_type": "code",
   "execution_count": 161,
   "metadata": {},
   "outputs": [
    {
     "data": {
      "text/plain": [
       "array([[0.0672, 0.07533, 0.0672, 0.07533],\n",
       "       [0.07533, 0.07533, 0.07533, 0.07533],\n",
       "       [0.07533, 0.07533, 0.07533, 0.07533],\n",
       "       ...,\n",
       "       [33.925, 33.952, 33.2, 33.265],\n",
       "       [33.255, 33.546, 33.128, 33.437],\n",
       "       [33.501, 33.646, 32.939, 33.11]], dtype=object)"
      ]
     },
     "execution_count": 161,
     "metadata": {},
     "output_type": "execute_result"
    }
   ],
   "source": [
    "train[:,1:5]"
   ]
  },
  {
   "cell_type": "markdown",
   "metadata": {},
   "source": [
    "<a id='exogenous_training'></a> **Exogenous Training**"
   ]
  },
  {
   "cell_type": "code",
   "execution_count": null,
   "metadata": {},
   "outputs": [],
   "source": [
    "#with dataframe\n",
    "exo_model = pm.auto_arima(train['Open'], trace=True, suppress_warnings=True,exogenous=train[['High','Low','Close']], stationarity=False, seasonality=True)"
   ]
  },
  {
   "cell_type": "code",
   "execution_count": 172,
   "metadata": {},
   "outputs": [
    {
     "name": "stdout",
     "output_type": "stream",
     "text": [
      "Performing stepwise search to minimize aic\n",
      "Fit ARIMA: (2, 0, 2)x(0, 0, 0, 0) (constant=True); AIC=-6861.068, BIC=-6799.385, Time=9.789 seconds\n",
      "Fit ARIMA: (0, 0, 0)x(0, 0, 0, 0) (constant=True); AIC=-6851.046, BIC=-6816.777, Time=2.204 seconds\n",
      "Fit ARIMA: (1, 0, 0)x(0, 0, 0, 0) (constant=True); AIC=-6862.744, BIC=-6821.622, Time=1.784 seconds\n",
      "Fit ARIMA: (0, 0, 1)x(0, 0, 0, 0) (constant=True); AIC=-6862.205, BIC=-6821.083, Time=1.272 seconds\n",
      "Fit ARIMA: (0, 0, 0)x(0, 0, 0, 0) (constant=False); AIC=-6853.012, BIC=-6825.597, Time=2.744 seconds\n",
      "Fit ARIMA: (2, 0, 0)x(0, 0, 0, 0) (constant=True); AIC=-6863.242, BIC=-6815.266, Time=6.561 seconds\n",
      "Fit ARIMA: (3, 0, 0)x(0, 0, 0, 0) (constant=True); AIC=-6861.899, BIC=-6807.069, Time=6.663 seconds\n",
      "Fit ARIMA: (2, 0, 1)x(0, 0, 0, 0) (constant=True); AIC=-6861.353, BIC=-6806.524, Time=2.956 seconds\n",
      "Fit ARIMA: (1, 0, 1)x(0, 0, 0, 0) (constant=True); AIC=-6862.635, BIC=-6814.659, Time=5.314 seconds\n",
      "Fit ARIMA: (3, 0, 1)x(0, 0, 0, 0) (constant=True); AIC=-6859.914, BIC=-6798.231, Time=4.738 seconds\n",
      "Total fit time: 44.051 seconds\n"
     ]
    }
   ],
   "source": [
    "#with np.array \n",
    "exo_model = pm.auto_arima(train[:,1], trace=True, suppress_warnings=True,exogenous=train[:,2:5], stationarity=False, seasonality=True)"
   ]
  },
  {
   "cell_type": "code",
   "execution_count": 173,
   "metadata": {},
   "outputs": [
    {
     "data": {
      "text/html": [
       "<table class=\"simpletable\">\n",
       "<caption>SARIMAX Results</caption>\n",
       "<tr>\n",
       "  <th>Dep. Variable:</th>           <td>y</td>        <th>  No. Observations:  </th>   <td>7000</td>   \n",
       "</tr>\n",
       "<tr>\n",
       "  <th>Model:</th>           <td>SARIMAX(2, 0, 0)</td> <th>  Log Likelihood     </th> <td>3438.621</td> \n",
       "</tr>\n",
       "<tr>\n",
       "  <th>Date:</th>            <td>Wed, 18 Mar 2020</td> <th>  AIC                </th> <td>-6863.242</td>\n",
       "</tr>\n",
       "<tr>\n",
       "  <th>Time:</th>                <td>12:26:00</td>     <th>  BIC                </th> <td>-6815.266</td>\n",
       "</tr>\n",
       "<tr>\n",
       "  <th>Sample:</th>                  <td>0</td>        <th>  HQIC               </th> <td>-6846.710</td>\n",
       "</tr>\n",
       "<tr>\n",
       "  <th></th>                      <td> - 7000</td>     <th>                     </th>     <td> </td>    \n",
       "</tr>\n",
       "<tr>\n",
       "  <th>Covariance Type:</th>        <td>opg</td>       <th>                     </th>     <td> </td>    \n",
       "</tr>\n",
       "</table>\n",
       "<table class=\"simpletable\">\n",
       "<tr>\n",
       "      <td></td>         <th>coef</th>     <th>std err</th>      <th>z</th>      <th>P>|z|</th>  <th>[0.025</th>    <th>0.975]</th>  \n",
       "</tr>\n",
       "<tr>\n",
       "  <th>intercept</th> <td>   -0.0004</td> <td>    0.007</td> <td>   -0.064</td> <td> 0.949</td> <td>   -0.014</td> <td>    0.013</td>\n",
       "</tr>\n",
       "<tr>\n",
       "  <th>x1</th>        <td>    0.7791</td> <td>    0.003</td> <td>  269.796</td> <td> 0.000</td> <td>    0.773</td> <td>    0.785</td>\n",
       "</tr>\n",
       "<tr>\n",
       "  <th>x2</th>        <td>    0.7761</td> <td>    0.003</td> <td>  260.871</td> <td> 0.000</td> <td>    0.770</td> <td>    0.782</td>\n",
       "</tr>\n",
       "<tr>\n",
       "  <th>x3</th>        <td>   -0.5553</td> <td>    0.004</td> <td> -132.745</td> <td> 0.000</td> <td>   -0.564</td> <td>   -0.547</td>\n",
       "</tr>\n",
       "<tr>\n",
       "  <th>ar.L1</th>     <td>    0.0434</td> <td>    0.007</td> <td>    6.493</td> <td> 0.000</td> <td>    0.030</td> <td>    0.057</td>\n",
       "</tr>\n",
       "<tr>\n",
       "  <th>ar.L2</th>     <td>    0.0187</td> <td>    0.007</td> <td>    2.690</td> <td> 0.007</td> <td>    0.005</td> <td>    0.032</td>\n",
       "</tr>\n",
       "<tr>\n",
       "  <th>sigma2</th>    <td>    0.0219</td> <td>    0.000</td> <td>  167.045</td> <td> 0.000</td> <td>    0.022</td> <td>    0.022</td>\n",
       "</tr>\n",
       "</table>\n",
       "<table class=\"simpletable\">\n",
       "<tr>\n",
       "  <th>Ljung-Box (Q):</th>          <td>149.48</td> <th>  Jarque-Bera (JB):  </th> <td>231920.50</td>\n",
       "</tr>\n",
       "<tr>\n",
       "  <th>Prob(Q):</th>                 <td>0.00</td>  <th>  Prob(JB):          </th>   <td>0.00</td>   \n",
       "</tr>\n",
       "<tr>\n",
       "  <th>Heteroskedasticity (H):</th> <td>176.08</td> <th>  Skew:              </th>   <td>0.08</td>   \n",
       "</tr>\n",
       "<tr>\n",
       "  <th>Prob(H) (two-sided):</th>     <td>0.00</td>  <th>  Kurtosis:          </th>   <td>31.20</td>  \n",
       "</tr>\n",
       "</table><br/><br/>Warnings:<br/>[1] Covariance matrix calculated using the outer product of gradients (complex-step)."
      ],
      "text/plain": [
       "<class 'statsmodels.iolib.summary.Summary'>\n",
       "\"\"\"\n",
       "                               SARIMAX Results                                \n",
       "==============================================================================\n",
       "Dep. Variable:                      y   No. Observations:                 7000\n",
       "Model:               SARIMAX(2, 0, 0)   Log Likelihood                3438.621\n",
       "Date:                Wed, 18 Mar 2020   AIC                          -6863.242\n",
       "Time:                        12:26:00   BIC                          -6815.266\n",
       "Sample:                             0   HQIC                         -6846.710\n",
       "                               - 7000                                         \n",
       "Covariance Type:                  opg                                         \n",
       "==============================================================================\n",
       "                 coef    std err          z      P>|z|      [0.025      0.975]\n",
       "------------------------------------------------------------------------------\n",
       "intercept     -0.0004      0.007     -0.064      0.949      -0.014       0.013\n",
       "x1             0.7791      0.003    269.796      0.000       0.773       0.785\n",
       "x2             0.7761      0.003    260.871      0.000       0.770       0.782\n",
       "x3            -0.5553      0.004   -132.745      0.000      -0.564      -0.547\n",
       "ar.L1          0.0434      0.007      6.493      0.000       0.030       0.057\n",
       "ar.L2          0.0187      0.007      2.690      0.007       0.005       0.032\n",
       "sigma2         0.0219      0.000    167.045      0.000       0.022       0.022\n",
       "===================================================================================\n",
       "Ljung-Box (Q):                      149.48   Jarque-Bera (JB):            231920.50\n",
       "Prob(Q):                              0.00   Prob(JB):                         0.00\n",
       "Heteroskedasticity (H):             176.08   Skew:                             0.08\n",
       "Prob(H) (two-sided):                  0.00   Kurtosis:                        31.20\n",
       "===================================================================================\n",
       "\n",
       "Warnings:\n",
       "[1] Covariance matrix calculated using the outer product of gradients (complex-step).\n",
       "\"\"\""
      ]
     },
     "execution_count": 173,
     "metadata": {},
     "output_type": "execute_result"
    }
   ],
   "source": [
    "exo_model.summary()"
   ]
  },
  {
   "cell_type": "code",
   "execution_count": 191,
   "metadata": {},
   "outputs": [
    {
     "data": {
      "text/plain": [
       "array([['1986-03-13', 0.0672, 0.07533, ..., 0.07533, 1371330506, 0],\n",
       "       ['1986-03-14', 0.07533, 0.07533, ..., 0.07533, 409569463, 0],\n",
       "       ['1986-03-17', 0.07533, 0.07533, ..., 0.07533, 176995245, 0],\n",
       "       ...,\n",
       "       ['2013-12-13', 33.925, 33.952, ..., 33.265, 44200101, 0],\n",
       "       ['2013-12-16', 33.255, 33.546, ..., 33.437, 35002374, 0],\n",
       "       ['2013-12-17', 33.501, 33.646, ..., 33.11, 50273973, 0]],\n",
       "      dtype=object)"
      ]
     },
     "execution_count": 191,
     "metadata": {},
     "output_type": "execute_result"
    }
   ],
   "source": [
    "train"
   ]
  },
  {
   "cell_type": "markdown",
   "metadata": {},
   "source": [
    "<a id='another_cell'></a>"
   ]
  },
  {
   "cell_type": "code",
   "execution_count": 195,
   "metadata": {},
   "outputs": [
    {
     "name": "stdout",
     "output_type": "stream",
     "text": [
      "Test RMSE: 0.274\n"
     ]
    },
    {
     "data": {
      "text/plain": [
       "Text(0.5, 0, 'Counter')"
      ]
     },
     "execution_count": 195,
     "metadata": {},
     "output_type": "execute_result"
    },
    {
     "data": {
      "image/png": "[encoded data removed]",
      "text/plain": [
       "<Figure size 432x288 with 1 Axes>"
      ]
     },
     "metadata": {
      "needs_background": "light"
     },
     "output_type": "display_data"
    }
   ],
   "source": [
    "preds = exo_model.predict(n_periods=test.shape[0],exogenous=test[:,2:5])\n",
    "# Print the error:\n",
    "print(\"Test RMSE: %.3f\" % np.sqrt(mean_squared_error(test[:,1], preds)))\n",
    "\n",
    "# #############################################################################\n",
    "# Plot the points and the forecasts\n",
    "x_axis = np.arange(train[:,1].shape[0] + preds.shape[0])\n",
    "\n",
    "plt.plot(x_axis[:train[:,1].shape[0]], train[:,1], alpha=0.75)\n",
    "plt.plot(x_axis[train[:,1].shape[0]:], preds, alpha=0.75)  # Forecasts\n",
    "plt.scatter(x_axis[train[:,1].shape[0]:], test[:,1],\n",
    "            alpha=0.4, marker='x')  # Test data\n",
    "plt.title(\"Auto-arima forecasts\")\n",
    "plt.xlabel(\"Counter\")"
   ]
  },
  {
   "cell_type": "markdown",
   "metadata": {},
   "source": [
    "<a id='exogenous_prediction_output'></a> **Exogenous Prediction Output**"
   ]
  },
  {
   "cell_type": "code",
   "execution_count": 199,
   "metadata": {},
   "outputs": [
    {
     "data": {
      "text/plain": [
       "array([32.43880843, 32.95249399, 33.02195703, 33.3355207 , 33.36485942,\n",
       "       33.78337084, 33.94815607, 33.58974399, 33.89627705, 33.8113185 ,\n",
       "       33.45960832, 33.27238599, 32.91760193, 32.5557041 , 32.38155647,\n",
       "       32.54084336, 32.3371281 , 31.69542927, 32.70279193, 33.10912977,\n",
       "       33.13352497, 33.16649999, 32.71824213, 32.35539785, 33.69341421,\n",
       "       33.2310105 , 32.59383349, 32.8505818 , 32.9823323 , 33.43352174,\n",
       "       34.0983481 , 33.47078104, 32.91375848, 32.49951953, 32.77482915,\n",
       "       32.9981333 , 33.53741674, 33.93518934, 34.0723629 , 34.01049351,\n",
       "       34.42127942, 34.21346459, 34.3125818 , 34.86180236, 34.51202289,\n",
       "       34.36792624, 34.21169985, 34.1510003 , 34.74539476, 34.54641815,\n",
       "       34.88526851, 34.78985182, 34.72088337, 34.78906218, 34.60259124,\n",
       "       34.65833429, 34.72184322, 34.82380481, 34.6005926 , 34.82077761,\n",
       "       35.42370252, 35.80549965, 36.28214767, 37.12458959, 36.63042389,\n",
       "       37.03509071, 36.85721944, 36.36611434, 36.60043398, 37.3775831 ,\n",
       "       37.70050625, 37.85552767, 37.43918861, 37.32941412, 36.6393767 ,\n",
       "       36.00237526, 36.59562031, 36.69790433, 36.073955  , 35.74244639,\n",
       "       35.95374907, 36.56085318, 36.31056467, 36.52041265, 36.51623267,\n",
       "       36.30456017, 36.08472052, 36.88097224, 37.06968277, 37.39369454,\n",
       "       36.80320019, 36.74908066, 36.68577683, 36.06746892, 35.80093733,\n",
       "       35.41888424, 35.9097753 , 36.20852336, 36.30992213, 36.82621449,\n",
       "       37.0238094 , 36.92780034, 36.23834337, 36.40100157, 36.52112911,\n",
       "       36.67230777, 36.880192  , 36.99054109, 36.73984124, 36.78993137,\n",
       "       36.79459983, 37.18002493, 37.64891034, 37.3033295 , 36.78813139,\n",
       "       37.34906506, 38.1041725 , 37.92682019, 37.6637735 , 37.66508815,\n",
       "       37.32845016, 37.88993548, 37.91709722, 37.53682084, 38.03461648,\n",
       "       38.23383561, 38.22419232, 38.40996952, 38.40216474, 38.26173087,\n",
       "       38.31903198, 38.35898213, 38.71525349, 38.5787907 , 38.26942233,\n",
       "       38.40589973, 38.51196959, 38.45994115, 38.45058957, 38.10713233,\n",
       "       38.27442623, 38.90776176, 38.75386283, 39.56231572, 41.59706393,\n",
       "       40.89273688, 41.03129816, 41.28737565, 41.50202347, 41.20731026,\n",
       "       40.89707273, 40.79670568, 40.33275367, 40.24447732, 40.01612644,\n",
       "       39.51374572, 39.56022341, 39.71301156, 39.23568553, 39.50108739,\n",
       "       39.60395104, 39.77972589, 39.70220362, 40.21231324, 40.63652836,\n",
       "       40.99192081, 41.18046028, 41.59815906, 41.88670762, 41.5893626 ,\n",
       "       41.95611781, 41.9041361 , 41.88088448, 41.53777709, 41.40854752,\n",
       "       41.63393123, 41.82344132, 41.40539689, 41.50468139, 41.92342227,\n",
       "       42.89617895, 43.17820628, 43.01785283, 43.11387347, 43.38029671,\n",
       "       43.02874294, 42.99859884, 42.9650158 , 43.14862509, 43.35167231,\n",
       "       43.72220259, 43.32609696, 43.05900871, 43.35681988, 42.63320566,\n",
       "       42.57291816, 42.73829869, 42.89552215, 42.50608939, 42.4598861 ,\n",
       "       42.68261928, 42.34296607, 42.33659646, 43.0356703 , 42.19676764,\n",
       "       40.93667747, 40.81536893, 39.31406614, 39.42451905, 39.99737366,\n",
       "       39.92356116, 41.0996403 , 41.45383423, 41.61235852, 42.56384201,\n",
       "       42.47878678, 42.51284039, 42.99853759, 42.61031841, 43.12426142,\n",
       "       43.40687959, 43.90862695, 43.88876157, 44.52834464, 44.94262165,\n",
       "       45.1861934 , 45.11132595, 45.05494746, 45.293012  , 46.07684171,\n",
       "       45.72192972, 45.78686545, 45.07962598, 44.75286283, 45.16394667,\n",
       "       44.47190259, 44.55552326, 44.30198627, 44.65537844, 44.73619702,\n",
       "       45.3678267 , 44.88526563, 45.17935903, 45.46010443, 44.71048124,\n",
       "       44.16512354, 44.08122918, 43.98441256, 44.08637126, 44.09921192,\n",
       "       42.88901452, 42.13379705, 43.39953631, 44.34949161, 44.5886126 ,\n",
       "       45.14141144, 45.14779683, 44.928657  , 44.28870563, 44.09442366,\n",
       "       43.97593861, 43.86561307, 43.37627355, 43.23173075, 42.68469472,\n",
       "       43.80378046, 44.19271713, 43.90390139, 44.08643021, 42.76094528,\n",
       "       42.95623846, 42.31698635, 42.79649319, 42.60470879, 43.13541088,\n",
       "       43.81469258, 43.30956924, 39.7154557 , 39.49849966, 38.32012159,\n",
       "       38.44195873, 37.74885483, 38.57619241, 38.88672971, 39.23547939,\n",
       "       39.58184356, 39.61556489, 39.49180797, 39.5387934 , 39.70865631,\n",
       "       40.3333939 , 40.89792871, 40.84913201, 40.49035396, 40.73912707,\n",
       "       41.07320386, 41.37978494, 41.19314692, 41.32374156, 41.24369468,\n",
       "       41.14097434, 40.8560468 , 40.36370293, 40.31640001, 40.12527641,\n",
       "       39.91200309, 39.91547428, 39.5538034 , 38.66569459, 38.31601248,\n",
       "       38.83418113, 38.80986606, 39.24916464, 39.83585318, 40.0062351 ,\n",
       "       40.34272404, 40.32350051, 39.93577571, 38.73220261, 38.65874742,\n",
       "       38.80297021, 38.32066734, 37.92227842, 37.99236056, 38.14510512,\n",
       "       39.06800441, 38.76759529, 38.83896472, 39.07204393, 39.11588345,\n",
       "       39.14993526, 39.3583344 , 39.42549959, 38.78594563, 39.54587457,\n",
       "       40.2844407 , 40.10101133, 40.45181138, 43.47973903, 44.53180434,\n",
       "       45.08378422, 45.78716489, 46.24775145, 45.61461369, 45.6596466 ,\n",
       "       44.84260969, 44.302492  , 43.68396555, 44.78686681, 44.82260938,\n",
       "       43.97473959, 45.13394736, 45.26348127, 45.56123667, 44.88917397,\n",
       "       44.79211596, 44.94456381, 44.59599137, 44.54477971, 43.90060069,\n",
       "       44.33586384, 45.16833602, 44.55929224, 44.53411974, 44.3883264 ,\n",
       "       44.85712709, 44.2339863 , 43.6164141 , 43.63971478, 43.16644566,\n",
       "       43.48634757, 43.96538517, 43.70978142, 42.72554403, 43.17399039,\n",
       "       43.0194963 , 43.75967451, 43.97420503, 43.95093773, 43.39842901,\n",
       "       43.46243742, 43.28319412, 43.3055817 , 42.50898423, 41.94166276,\n",
       "       42.28274913, 41.91933975, 41.64784951, 41.2389725 , 42.09264463,\n",
       "       42.5253356 , 42.47092024, 42.61586012, 43.08681852, 43.04801337,\n",
       "       43.56362868, 43.86148834, 44.09201528, 44.08315434, 43.7619311 ,\n",
       "       42.87346778, 43.54441932, 43.22214387, 42.61743134, 43.30214034,\n",
       "       43.93904516, 44.43227703, 44.06304132, 44.36945647, 45.49692873,\n",
       "       44.64190593, 43.79873507, 44.43744881, 43.82577363, 43.48476556,\n",
       "       44.20741412, 44.08886424, 44.21338566, 44.61386638, 44.40873165,\n",
       "       43.98571602, 42.70939186, 39.3661099 , 40.44746971, 39.46213568,\n",
       "       41.02882998, 41.50609931, 41.34743745, 40.18967715, 40.12393446,\n",
       "       41.52653723, 40.49430993, 41.27666171, 41.79289264, 41.10734075,\n",
       "       40.9979381 , 41.05868573, 41.35622368, 41.81472513, 42.47686064,\n",
       "       41.58268614, 41.80240917, 41.38921187, 41.64369098, 41.41493133,\n",
       "       42.20354401, 41.66150841, 41.08528511, 41.64335551, 41.85661095,\n",
       "       42.0837532 , 43.81636351, 44.34211005, 44.24978033, 44.43166075,\n",
       "       44.94383366, 44.34369882, 44.48720413, 44.55584179, 44.32949218,\n",
       "       44.71694889, 44.99852623, 44.86669209, 45.36709482, 45.6260209 ,\n",
       "       50.66901158, 50.30819777, 51.44072341, 50.46647669, 50.94658011,\n",
       "       51.00304208, 50.22195585, 50.70961212, 51.79493752, 51.62781283,\n",
       "       51.52299433, 51.5467951 , 51.12856663, 51.24581481, 51.05891655,\n",
       "       50.31349286, 50.50700356, 51.00044724, 50.96386009, 52.01718589,\n",
       "       51.23075779, 51.71392952, 51.54175212, 51.76275529, 51.59679058,\n",
       "       52.18683777, 52.14852355, 53.2607377 , 52.8180224 , 52.37855382,\n",
       "       53.12183155, 53.00625318, 52.90847733, 52.96200333, 52.45204224,\n",
       "       51.71494231, 53.24516691, 52.75909125, 53.9688664 , 53.10190831,\n",
       "       52.39303904, 52.4133108 , 53.16103666, 53.29245022, 52.80234086,\n",
       "       53.95603392, 54.19963525, 53.55870935, 51.37583968, 52.5367428 ,\n",
       "       51.66089861, 50.81316233, 50.63448743, 49.81841082, 50.19461363,\n",
       "       50.96080184, 49.89120602, 49.02499655, 48.83056415, 47.77103241,\n",
       "       48.97514276, 49.28542828, 50.08108209, 49.64762105, 49.57943918,\n",
       "       49.31425041, 51.89354585, 52.46026363, 51.38045419, 50.14637008,\n",
       "       49.88122268, 48.90835361, 46.47856438, 47.4053526 , 47.91868285,\n",
       "       46.97098576, 47.88505391, 48.50732798, 50.0422919 , 50.78673191,\n",
       "       50.05665364, 50.71415136, 50.05364619, 48.72111323, 49.08277839,\n",
       "       50.31352167, 49.43577244, 49.4261978 , 50.42914652, 50.47698415,\n",
       "       50.20672249, 49.40634381, 49.33552306, 50.18237029, 50.15023384,\n",
       "       50.61616299, 51.13785889, 50.9970973 , 51.84242096, 52.42699672,\n",
       "       52.61429214, 51.24815479, 51.77483163, 52.03067253, 51.96184841,\n",
       "       51.99064938, 51.88251392, 53.37094603, 53.20798678, 52.8235579 ,\n",
       "       53.25721504, 53.04792373, 52.4867697 , 52.63735289, 53.00198796,\n",
       "       52.94983968, 52.08600598, 53.04888607, 53.28231905, 53.41707325,\n",
       "       53.5611263 , 54.08623083, 54.16460221, 53.80687067, 49.62163432,\n",
       "       49.86247753, 49.98227023, 49.20756226, 48.47673146, 47.93865502,\n",
       "       48.24582925, 48.30030789, 47.88312528, 48.23099351, 48.00375519,\n",
       "       48.57581787, 48.5957864 , 49.69585547, 49.41212015, 49.7972722 ,\n",
       "       49.22598431, 49.81478855, 49.16310303, 48.67025832, 49.40033135,\n",
       "       48.99600632, 49.24803466, 50.58871075, 50.01095594, 50.34544371,\n",
       "       50.72915861, 51.03713679, 50.6262389 , 50.5796418 , 50.56436727,\n",
       "       51.02359531, 50.6643831 , 50.27270771, 50.0467081 , 48.2673734 ,\n",
       "       48.35492273, 48.53605454, 48.28493664, 48.62987275, 49.1224558 ,\n",
       "       49.07077369, 49.79312854, 49.90596236, 48.95104956, 47.23131358,\n",
       "       47.40976783, 48.61512576, 49.24004704, 49.99184944, 49.40529104,\n",
       "       49.22501819, 49.78942388, 50.22253589, 51.11688123, 51.44908699,\n",
       "       51.93340376, 52.20862064, 51.95812753, 52.3313732 , 52.00022419,\n",
       "       54.66228465, 54.43434618, 54.33230177, 54.68991456, 55.28262544,\n",
       "       54.91622363, 54.28845126, 54.57804196, 54.69241669, 54.93421454,\n",
       "       55.0180348 , 55.23600083, 56.03891162, 56.13856585, 56.55882576,\n",
       "       56.36756116, 56.47354494, 56.16349216, 56.55613309, 56.08451981,\n",
       "       56.03446675, 56.05998802, 56.01792488, 56.05130377, 56.70690852,\n",
       "       56.46574672, 56.584556  , 56.89996846, 57.10106144, 56.53232178,\n",
       "       56.23436507, 55.9637906 , 56.50814594, 56.08421506, 56.23506452,\n",
       "       56.15110259, 55.87289714, 54.72256912, 54.9155873 , 55.03220472,\n",
       "       55.03783215, 55.80135791, 56.14182877, 55.82747029, 55.94219282,\n",
       "       56.44070121, 56.39358694, 55.67942705, 55.69593526, 56.40153005,\n",
       "       56.47852091, 56.16495803, 55.8835584 , 55.94727914, 56.2271158 ,\n",
       "       56.11264531, 56.27713167, 56.79972335, 56.23726967, 55.33879292,\n",
       "       55.4002675 , 56.07424884, 55.77893949, 56.31840896, 56.2978318 ,\n",
       "       55.64970405, 58.7125137 , 58.74152543, 59.68798203, 59.50346552,\n",
       "       59.22196709, 58.72304411, 58.87847558, 58.13073033, 58.30045724,\n",
       "       58.05447614, 57.60578611, 58.57693771, 59.02832521, 58.32671396,\n",
       "       57.85700363, 56.9261605 , 56.8352536 , 57.91313311, 54.5308458 ,\n",
       "       59.32414425, 59.88342818, 59.56745335, 59.94566957, 59.78647125,\n",
       "       59.18731415, 59.57892451, 59.85244528, 59.89748812, 58.71066588,\n",
       "       58.06060079, 58.96438405, 59.19865417, 59.12845025, 60.27066249,\n",
       "       60.27868124, 60.86145417, 61.67372283, 62.07599183, 61.7336427 ,\n",
       "       61.58874816, 61.72866566, 62.25822845, 62.24694398, 62.77197016,\n",
       "       62.04976742, 62.74620161, 62.10271105, 61.92149556, 61.64112945,\n",
       "       61.36020768, 61.43993287, 61.301526  , 61.38968487, 61.8273865 ,\n",
       "       61.63280386, 61.55820939, 61.63932462, 61.4843351 , 61.20773718,\n",
       "       61.29291257, 61.67187464, 61.44314069, 61.70278039, 62.15628285,\n",
       "       62.73636547, 62.82165128, 64.07368541, 64.26776497, 63.62754047,\n",
       "       63.20385719, 61.95167295, 62.13916442, 62.17486639, 62.4588354 ,\n",
       "       62.52364787, 62.68486886, 63.11458652, 63.26862877, 63.54153307,\n",
       "       63.55166362, 64.29180722, 63.70592213, 64.0934171 , 63.42557625,\n",
       "       63.65559378, 63.66434258, 63.60885611, 63.2659633 , 63.56527938,\n",
       "       63.76468822, 63.07135932, 63.4219539 , 63.80805864, 63.76792142,\n",
       "       64.17617735, 64.32017557, 64.25245939, 63.59773203, 63.77310532,\n",
       "       63.74934952, 64.28358953, 64.23223141, 64.42525962, 63.69032938,\n",
       "       64.3456605 , 64.44663256, 63.88839107, 64.20768807, 64.36037527,\n",
       "       64.91411699, 65.06304181, 64.84087604, 64.71137372, 65.34641236,\n",
       "       65.0543478 , 64.97650579, 64.88987587, 64.36368115, 64.62528435,\n",
       "       64.92549276, 64.39437179, 64.73059832, 64.74514104, 64.68437291,\n",
       "       65.15991602, 66.54470358, 67.00742576, 67.28116033, 67.06230016,\n",
       "       67.62756522, 68.04481156, 68.71137351, 68.25483818, 68.11818384,\n",
       "       67.85686696, 67.85398928, 68.17686336, 68.42831691, 67.64187449,\n",
       "       67.53095226, 67.04392281, 68.08606471, 68.32556326, 67.22231295,\n",
       "       67.43043797, 67.37811201, 68.12476592, 68.22883321, 68.89017805,\n",
       "       69.43687249, 69.52778932, 70.12924081, 69.60840642, 70.27412923,\n",
       "       71.99145295, 72.0046018 , 71.94608422, 71.6478794 , 69.96067701,\n",
       "       68.24561045, 69.8595976 , 69.87710328, 68.90540196, 69.03147533,\n",
       "       70.13625379, 70.23743021, 69.8989613 , 69.70419808, 69.85188943,\n",
       "       70.99054956, 69.55690374, 68.66726025, 68.5788274 , 68.75201227,\n",
       "       68.78679349, 68.31400415, 68.00688745, 68.78511509, 69.20156996,\n",
       "       69.95318735, 70.3951798 , 71.22821663, 72.1263452 , 72.53763162,\n",
       "       72.47153521, 73.27625708, 73.14728672, 73.29181296, 72.94737406,\n",
       "       73.34092157, 73.71245461, 73.08550568, 72.46069038, 72.648783  ,\n",
       "       72.76192835, 71.46453435, 71.74123556, 72.21866761, 72.2808393 ,\n",
       "       71.84952405, 71.77749108, 71.57415069, 71.31360064, 72.79063845,\n",
       "       73.35305341, 73.61246773, 73.52988055, 72.31271409, 72.04257084,\n",
       "       72.57821198, 72.89213892, 72.32587788, 72.95361327, 72.79982957,\n",
       "       72.34415233, 73.23375611, 74.13274593, 74.31477229, 73.32362476,\n",
       "       73.84425211, 73.95252554, 74.21405565, 74.53907122, 74.8598853 ,\n",
       "       74.6974585 , 75.12108077, 74.39405873, 75.68200563, 75.30067312,\n",
       "       74.91044127, 74.91911529, 74.03755492, 73.75189029, 73.46342927,\n",
       "       73.55593416, 73.49766582, 74.03588653, 74.66136979, 74.6768532 ,\n",
       "       73.93701226, 75.28695433, 75.65030162, 76.14270797, 76.42233339,\n",
       "       76.07024523, 76.65407855, 77.61444565, 77.52541232, 77.33310396,\n",
       "       77.59430973, 77.47451141, 78.46011271, 79.1563378 , 78.79778717,\n",
       "       78.49837591, 79.24977553, 85.49905742, 83.60197647, 84.02741437,\n",
       "       83.38148169, 83.62993642, 83.85958137, 84.33063949, 84.48472126,\n",
       "       84.01458503, 83.28896533, 83.53090878])"
      ]
     },
     "execution_count": 199,
     "metadata": {},
     "output_type": "execute_result"
    }
   ],
   "source": [
    "#with dataframe\n",
    "preds = exo_model.predict(n_periods=test.shape[0],exogenous=test[['High','Low','Close']])\n",
    "#with np.array\n",
    "preds = exo_model.predict(n_periods=test.shape[0],exogenous=test[:,2:5])\n",
    "preds"
   ]
  },
  {
   "cell_type": "markdown",
   "metadata": {},
   "source": [
    "# **UI and UX Proposal**"
   ]
  },
  {
   "cell_type": "markdown",
   "metadata": {},
   "source": [
    "*Please note I am NOT a designer, but I hope this illustrates my proposed path better*\n",
    "[Another Cell](#another_cell)\n"
   ]
  },
  {
   "cell_type": "code",
   "execution_count": null,
   "metadata": {},
   "outputs": [],
   "source": []
  }
 ],
 "metadata": {
  "kernelspec": {
   "display_name": "Python 3",
   "language": "python",
   "name": "python3"
  },
  "language_info": {
   "codemirror_mode": {
    "name": "ipython",
    "version": 3
   },
   "file_extension": ".py",
   "mimetype": "text/x-python",
   "name": "python",
   "nbconvert_exporter": "python",
   "pygments_lexer": "ipython3",
   "version": "3.6.9"
  }
 },
 "nbformat": 4,
 "nbformat_minor": 2
}
