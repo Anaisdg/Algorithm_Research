{
 "cells": [
  {
   "cell_type": "markdown",
   "metadata": {},
   "source": [
    "**Model Selection Considerations**"
   ]
  },
  {
   "cell_type": "markdown",
   "metadata": {},
   "source": [
    "| Data Assumptions | Assumptions Test |\n",
    "|------|------|\n",
    "|   Univariate Timeseries | N/A|\n",
    "|   Normal Distribution | p-test, visual inspection of histograms, q-q plots, box plots |\n",
    "|   Regular Time Series | domain knowledge/put a groupby on it|\n",
    "\n",
    "- like most forecasting problems, the uncertainty increases greatly as you predict further into the future. It is best to keep the forecast small. "
   ]
  },
  {
   "cell_type": "markdown",
   "metadata": {},
   "source": [
    "**Use Cases**\n",
    "- Good for really any type of time series data."
   ]
  },
  {
   "cell_type": "markdown",
   "metadata": {},
   "source": [
    "**Dependencies**"
   ]
  },
  {
   "cell_type": "code",
   "execution_count": 43,
   "metadata": {},
   "outputs": [],
   "source": [
    "import pandas as pd\n",
    "import matplotlib.pyplot as plt "
   ]
  },
  {
   "cell_type": "markdown",
   "metadata": {},
   "source": [
    "**Load Data**"
   ]
  },
  {
   "cell_type": "code",
   "execution_count": 65,
   "metadata": {},
   "outputs": [
    {
     "data": {
      "text/html": [
       "<div>\n",
       "<style scoped>\n",
       "    .dataframe tbody tr th:only-of-type {\n",
       "        vertical-align: middle;\n",
       "    }\n",
       "\n",
       "    .dataframe tbody tr th {\n",
       "        vertical-align: top;\n",
       "    }\n",
       "\n",
       "    .dataframe thead th {\n",
       "        text-align: right;\n",
       "    }\n",
       "</style>\n",
       "<table border=\"1\" class=\"dataframe\">\n",
       "  <thead>\n",
       "    <tr style=\"text-align: right;\">\n",
       "      <th></th>\n",
       "      <th>ds</th>\n",
       "      <th>y</th>\n",
       "    </tr>\n",
       "  </thead>\n",
       "  <tbody>\n",
       "    <tr>\n",
       "      <td>0</td>\n",
       "      <td>2007-12-10</td>\n",
       "      <td>9.590761</td>\n",
       "    </tr>\n",
       "    <tr>\n",
       "      <td>1</td>\n",
       "      <td>2007-12-11</td>\n",
       "      <td>8.519590</td>\n",
       "    </tr>\n",
       "    <tr>\n",
       "      <td>2</td>\n",
       "      <td>2007-12-12</td>\n",
       "      <td>8.183677</td>\n",
       "    </tr>\n",
       "    <tr>\n",
       "      <td>3</td>\n",
       "      <td>2007-12-13</td>\n",
       "      <td>8.072467</td>\n",
       "    </tr>\n",
       "    <tr>\n",
       "      <td>4</td>\n",
       "      <td>2007-12-14</td>\n",
       "      <td>7.893572</td>\n",
       "    </tr>\n",
       "  </tbody>\n",
       "</table>\n",
       "</div>"
      ],
      "text/plain": [
       "           ds         y\n",
       "0  2007-12-10  9.590761\n",
       "1  2007-12-11  8.519590\n",
       "2  2007-12-12  8.183677\n",
       "3  2007-12-13  8.072467\n",
       "4  2007-12-14  7.893572"
      ]
     },
     "execution_count": 65,
     "metadata": {},
     "output_type": "execute_result"
    }
   ],
   "source": [
    "df = pd.read_csv('data/example_wp_log_peyton_manning.csv')\n",
    "df.head()"
   ]
  },
  {
   "cell_type": "code",
   "execution_count": 66,
   "metadata": {},
   "outputs": [
    {
     "data": {
      "text/plain": [
       "<matplotlib.axes._subplots.AxesSubplot at 0x14002ea58>"
      ]
     },
     "execution_count": 66,
     "metadata": {},
     "output_type": "execute_result"
    },
    {
     "data": {
      "image/png": "[encoded data removed]",
      "text/plain": [
       "<Figure size 432x288 with 1 Axes>"
      ]
     },
     "metadata": {
      "needs_background": "light"
     },
     "output_type": "display_data"
    }
   ],
   "source": [
    "df.plot()"
   ]
  },
  {
   "cell_type": "code",
   "execution_count": 67,
   "metadata": {},
   "outputs": [
    {
     "data": {
      "text/html": [
       "<div>\n",
       "<style scoped>\n",
       "    .dataframe tbody tr th:only-of-type {\n",
       "        vertical-align: middle;\n",
       "    }\n",
       "\n",
       "    .dataframe tbody tr th {\n",
       "        vertical-align: top;\n",
       "    }\n",
       "\n",
       "    .dataframe thead th {\n",
       "        text-align: right;\n",
       "    }\n",
       "</style>\n",
       "<table border=\"1\" class=\"dataframe\">\n",
       "  <thead>\n",
       "    <tr style=\"text-align: right;\">\n",
       "      <th></th>\n",
       "      <th>ds</th>\n",
       "      <th>y</th>\n",
       "    </tr>\n",
       "  </thead>\n",
       "  <tbody>\n",
       "    <tr>\n",
       "      <td>866</td>\n",
       "      <td>2010-06-05</td>\n",
       "      <td>7.433075</td>\n",
       "    </tr>\n",
       "    <tr>\n",
       "      <td>867</td>\n",
       "      <td>2010-06-06</td>\n",
       "      <td>7.285507</td>\n",
       "    </tr>\n",
       "    <tr>\n",
       "      <td>868</td>\n",
       "      <td>2010-06-07</td>\n",
       "      <td>7.935587</td>\n",
       "    </tr>\n",
       "    <tr>\n",
       "      <td>869</td>\n",
       "      <td>2010-06-08</td>\n",
       "      <td>9.019543</td>\n",
       "    </tr>\n",
       "    <tr>\n",
       "      <td>870</td>\n",
       "      <td>2010-06-09</td>\n",
       "      <td>7.225481</td>\n",
       "    </tr>\n",
       "  </tbody>\n",
       "</table>\n",
       "</div>"
      ],
      "text/plain": [
       "             ds         y\n",
       "866  2010-06-05  7.433075\n",
       "867  2010-06-06  7.285507\n",
       "868  2010-06-07  7.935587\n",
       "869  2010-06-08  9.019543\n",
       "870  2010-06-09  7.225481"
      ]
     },
     "execution_count": 67,
     "metadata": {},
     "output_type": "execute_result"
    }
   ],
   "source": [
    "#split dataset into smaller dataset for training\n",
    "small_df = df[:(int(len(df)*.3))]\n",
    "small_df.tail()"
   ]
  },
  {
   "cell_type": "markdown",
   "metadata": {},
   "source": [
    "**Data Preperation: Required Inputs and Format**\n",
    "- Dataframe with one column of dependent values\n",
    "- (Required) y : array-like or iterable, shape=(n_samples,)\n",
    "            The time-series to which to fit the ``ARIMA`` estimator. This may\n",
    "            either be a Pandas ``Series`` object (statsmodels can internally\n",
    "            use the dates in the index), or a numpy array. This should be a\n",
    "            one-dimensional array of floats, and should not contain any\n",
    "            ``np.nan`` or ``np.inf`` values.\n",
    "- Don't train on an incomplete cycle. "
   ]
  },
  {
   "cell_type": "code",
   "execution_count": 68,
   "metadata": {},
   "outputs": [
    {
     "name": "stdout",
     "output_type": "stream",
     "text": [
      "len dataset:871\n"
     ]
    },
    {
     "name": "stderr",
     "output_type": "stream",
     "text": [
      "/Users/anaisdotis-georgiou/anaconda3/lib/python3.6/site-packages/pandas/core/frame.py:4102: SettingWithCopyWarning: \n",
      "A value is trying to be set on a copy of a slice from a DataFrame\n",
      "\n",
      "See the caveats in the documentation: http://pandas.pydata.org/pandas-docs/stable/user_guide/indexing.html#returning-a-view-versus-a-copy\n",
      "  errors=errors,\n"
     ]
    },
    {
     "data": {
      "text/html": [
       "<div>\n",
       "<style scoped>\n",
       "    .dataframe tbody tr th:only-of-type {\n",
       "        vertical-align: middle;\n",
       "    }\n",
       "\n",
       "    .dataframe tbody tr th {\n",
       "        vertical-align: top;\n",
       "    }\n",
       "\n",
       "    .dataframe thead th {\n",
       "        text-align: right;\n",
       "    }\n",
       "</style>\n",
       "<table border=\"1\" class=\"dataframe\">\n",
       "  <thead>\n",
       "    <tr style=\"text-align: right;\">\n",
       "      <th></th>\n",
       "      <th>y</th>\n",
       "    </tr>\n",
       "  </thead>\n",
       "  <tbody>\n",
       "    <tr>\n",
       "      <td>0</td>\n",
       "      <td>9.590761</td>\n",
       "    </tr>\n",
       "    <tr>\n",
       "      <td>1</td>\n",
       "      <td>8.519590</td>\n",
       "    </tr>\n",
       "    <tr>\n",
       "      <td>2</td>\n",
       "      <td>8.183677</td>\n",
       "    </tr>\n",
       "    <tr>\n",
       "      <td>3</td>\n",
       "      <td>8.072467</td>\n",
       "    </tr>\n",
       "    <tr>\n",
       "      <td>4</td>\n",
       "      <td>7.893572</td>\n",
       "    </tr>\n",
       "  </tbody>\n",
       "</table>\n",
       "</div>"
      ],
      "text/plain": [
       "          y\n",
       "0  9.590761\n",
       "1  8.519590\n",
       "2  8.183677\n",
       "3  8.072467\n",
       "4  7.893572"
      ]
     },
     "execution_count": 68,
     "metadata": {},
     "output_type": "execute_result"
    }
   ],
   "source": [
    "#preprocessing (since arima takes univariate series as input)\n",
    "small_df.drop('ds',axis=1,inplace=True)\n",
    "print('len dataset:' + str(len(small_df)))\n",
    "small_df.head()"
   ]
  },
  {
   "cell_type": "code",
   "execution_count": 69,
   "metadata": {},
   "outputs": [
    {
     "data": {
      "image/png": "[encoded data removed]",
      "text/plain": [
       "<Figure size 432x288 with 1 Axes>"
      ]
     },
     "metadata": {
      "needs_background": "light"
     },
     "output_type": "display_data"
    }
   ],
   "source": [
    "small_df['y'].plot()\n",
    "#calculating a good length for number of outputs ~30% \n",
    "short_dfoutput_len = 0.3*(len(df))"
   ]
  },
  {
   "cell_type": "code",
   "execution_count": 71,
   "metadata": {},
   "outputs": [
    {
     "data": {
      "text/plain": [
       "<matplotlib.axes._subplots.AxesSubplot at 0x1357a9b70>"
      ]
     },
     "execution_count": 71,
     "metadata": {},
     "output_type": "execute_result"
    },
    {
     "data": {
      "image/png": "[encoded data removed]",
      "text/plain": [
       "<Figure size 432x288 with 1 Axes>"
      ]
     },
     "metadata": {
      "needs_background": "light"
     },
     "output_type": "display_data"
    }
   ],
   "source": [
    "#divide into train and validation set\n",
    "train = small_df[:int(0.9*(len(small_df)))]\n",
    "valid = small_df[int(0.9*(len(small_df))):]\n",
    "\n",
    "#plotting the data\n",
    "train['y'].plot()\n",
    "valid['y'].plot()"
   ]
  },
  {
   "cell_type": "markdown",
   "metadata": {},
   "source": [
    "**Optional Inputs**\n",
    "- exogenous : array-like, shape=[n_obs, n_vars], optional (default=None)\n",
    "            An optional 2-d array of exogenous variables. If provided, these\n",
    "            variables are used as additional features in the regression\n",
    "            operation. This should not include a constant or trend. Note that\n",
    "            if an ``ARIMA`` is fit on exogenous features, it must be provided\n",
    "            exogenous features for making predictions.\n",
    "- exogenous definition: An independent variable that affects a model without being affected by it, and whose qualitative characteristics and method of generation are not specified by the model builder. I.E. if you wanted to model the temperature of a soup in a pot, the preprogrammed temperature of the hot plate would be the exogenous variable. \n",
    "- Tons of optional arguments listed [here](https://github.com/alkaline-ml/pmdarima/blob/b79db3111e087e6a6a2181de1f267fcd2d953079/pmdarima/arima/auto.py#L69). However, auto-arima should be able to find all of those parameters for you, so you don't have to explicitly define them. \n",
    "- My recommendation is to just include the following as optional arguments: \n",
    "`(m=1, seasonal=True, stationary=False, trace=True, error_action='ignore', suppress_warnings=True)`"
   ]
  },
  {
   "cell_type": "markdown",
   "metadata": {},
   "source": [
    "**Input Defaults**\n",
    "- just a the dependent variable"
   ]
  },
  {
   "cell_type": "markdown",
   "metadata": {},
   "source": [
    "**Minimal Output**\n",
    "- Plain forecast without exogeneous series"
   ]
  },
  {
   "cell_type": "code",
   "execution_count": 72,
   "metadata": {},
   "outputs": [
    {
     "name": "stdout",
     "output_type": "stream",
     "text": [
      "Fit ARIMA: order=(2, 1, 2) seasonal_order=(1, 0, 1, 4); AIC=794.742, BIC=832.037, Fit time=1.454 seconds\n",
      "Fit ARIMA: order=(0, 1, 0) seasonal_order=(0, 0, 0, 4); AIC=953.504, BIC=962.828, Fit time=0.072 seconds\n",
      "Fit ARIMA: order=(1, 1, 0) seasonal_order=(1, 0, 0, 4); AIC=934.671, BIC=953.319, Fit time=0.181 seconds\n",
      "Fit ARIMA: order=(0, 1, 1) seasonal_order=(0, 0, 1, 4); AIC=884.545, BIC=903.192, Fit time=0.315 seconds\n",
      "Fit ARIMA: order=(2, 1, 2) seasonal_order=(0, 0, 1, 4); AIC=794.261, BIC=826.894, Fit time=0.847 seconds\n",
      "Fit ARIMA: order=(2, 1, 2) seasonal_order=(0, 0, 0, 4); AIC=794.265, BIC=822.236, Fit time=0.648 seconds\n",
      "Fit ARIMA: order=(2, 1, 2) seasonal_order=(0, 0, 2, 4); AIC=790.385, BIC=827.680, Fit time=1.814 seconds\n",
      "Fit ARIMA: order=(1, 1, 2) seasonal_order=(0, 0, 2, 4); AIC=806.909, BIC=839.542, Fit time=1.534 seconds\n",
      "Fit ARIMA: order=(3, 1, 2) seasonal_order=(0, 0, 2, 4); AIC=804.545, BIC=846.502, Fit time=1.783 seconds\n",
      "Fit ARIMA: order=(2, 1, 1) seasonal_order=(0, 0, 2, 4); AIC=803.844, BIC=836.477, Fit time=0.946 seconds\n",
      "Fit ARIMA: order=(2, 1, 3) seasonal_order=(0, 0, 2, 4); AIC=794.060, BIC=836.016, Fit time=2.302 seconds\n",
      "Fit ARIMA: order=(1, 1, 1) seasonal_order=(0, 0, 2, 4); AIC=819.585, BIC=847.556, Fit time=1.297 seconds\n",
      "Fit ARIMA: order=(3, 1, 3) seasonal_order=(0, 0, 2, 4); AIC=756.806, BIC=803.424, Fit time=2.392 seconds\n",
      "Fit ARIMA: order=(3, 1, 3) seasonal_order=(1, 0, 2, 4); AIC=758.887, BIC=810.168, Fit time=2.875 seconds\n",
      "Fit ARIMA: order=(3, 1, 3) seasonal_order=(0, 0, 1, 4); AIC=759.549, BIC=801.506, Fit time=1.528 seconds\n",
      "Total fit time: 19.999 seconds\n"
     ]
    }
   ],
   "source": [
    "from pyramid.arima import auto_arima\n",
    "model = auto_arima(train, trace=True, error_action='ignore', suppress_warnings=True, seasonal=True, stationary=False, m=4)\n"
   ]
  },
  {
   "cell_type": "code",
   "execution_count": 73,
   "metadata": {},
   "outputs": [
    {
     "data": {
      "image/png": "[encoded data removed]",
      "text/plain": [
       "<Figure size 432x288 with 1 Axes>"
      ]
     },
     "metadata": {
      "needs_background": "light"
     },
     "output_type": "display_data"
    }
   ],
   "source": [
    "model.fit(train)\n",
    "\n",
    "forecast = model.predict(n_periods=(len(valid)))\n",
    "forecast = pd.DataFrame(forecast,index = valid.index,columns=['Prediction'])\n",
    "\n",
    "#plot the predictions for validation set\n",
    "plt.plot(train, label='Train')\n",
    "plt.plot(valid, label='Valid')\n",
    "plt.plot(forecast, label='Prediction')\n",
    "plt.show()"
   ]
  },
  {
   "cell_type": "code",
   "execution_count": 82,
   "metadata": {},
   "outputs": [
    {
     "data": {
      "text/html": [
       "<div>\n",
       "<style scoped>\n",
       "    .dataframe tbody tr th:only-of-type {\n",
       "        vertical-align: middle;\n",
       "    }\n",
       "\n",
       "    .dataframe tbody tr th {\n",
       "        vertical-align: top;\n",
       "    }\n",
       "\n",
       "    .dataframe thead th {\n",
       "        text-align: right;\n",
       "    }\n",
       "</style>\n",
       "<table border=\"1\" class=\"dataframe\">\n",
       "  <thead>\n",
       "    <tr style=\"text-align: right;\">\n",
       "      <th></th>\n",
       "      <th>Prediction</th>\n",
       "    </tr>\n",
       "  </thead>\n",
       "  <tbody>\n",
       "    <tr>\n",
       "      <td>0</td>\n",
       "      <td>7.535587</td>\n",
       "    </tr>\n",
       "    <tr>\n",
       "      <td>1</td>\n",
       "      <td>7.725336</td>\n",
       "    </tr>\n",
       "    <tr>\n",
       "      <td>2</td>\n",
       "      <td>7.768399</td>\n",
       "    </tr>\n",
       "    <tr>\n",
       "      <td>3</td>\n",
       "      <td>7.674405</td>\n",
       "    </tr>\n",
       "    <tr>\n",
       "      <td>4</td>\n",
       "      <td>7.710486</td>\n",
       "    </tr>\n",
       "  </tbody>\n",
       "</table>\n",
       "</div>"
      ],
      "text/plain": [
       "   Prediction\n",
       "0    7.535587\n",
       "1    7.725336\n",
       "2    7.768399\n",
       "3    7.674405\n",
       "4    7.710486"
      ]
     },
     "execution_count": 82,
     "metadata": {},
     "output_type": "execute_result"
    }
   ],
   "source": [
    "#What a plain forecast output would look like without appending to validation set. The actual output we would get assuming evaluation would happen in a seperate image. \n",
    "forecast2 = model.predict(n_periods=(len(valid)))\n",
    "forecast2 = pd.DataFrame(forecast2, columns=['Prediction'])\n",
    "forecast2.head()"
   ]
  },
  {
   "cell_type": "code",
   "execution_count": 28,
   "metadata": {},
   "outputs": [],
   "source": []
  },
  {
   "cell_type": "markdown",
   "metadata": {},
   "source": [
    "**Additional Tuning Options and Considerations**\n",
    "\n",
    "I haven't added anything about [gaps in data](https://facebook.github.io/prophet/docs/non-daily_data.html#data-with-regular-gaps), because I'm not sure what the UX should/could look like. \n",
    "\n",
    "[Additional Reggressors](https://towardsdatascience.com/forecast-model-tuning-with-additional-regressors-in-prophet-ffcbf1777dda): For [example](https://github.com/abaranovskis-redsamurai/automation-repo/blob/master/forecast/bikesharing_forecast_prophet_regressor2.ipynb), adding temperature and weather condition as a regressor to evaluate bike rentals. Future values of regressors have to be known in order to incorporate them with Prophet. You could perhaps use Prophet to make forecasts on regressors and then add those predictions/regressors to your main forecast. *Question* Could that approach cause overfitting? \n",
    "- If we were to include the option to include multiple regressors I imagine that the UX would be something like:\n",
    "    - Specify your forecast period. \n",
    "    - Specify your `y` or main forecast with a Flux Query.\n",
    "    - Specify input parameters for main forecast. \n",
    "    - Specify each regressor with a unique flux query. The simplest Prophet model is used \n",
    "\n",
    "    `m = Prophet()\n",
    "    m.fit(df)\n",
    "    future = m.make_future_dataframe(periods=365)\n",
    "    future.tail()\n",
    "    forecast = m.predict(future)forecast[['ds','yhat']].tail()` \n",
    "\n",
    "    to forecast each regressor.\n",
    "    - The regressor is added with:\n",
    "    `future['temp'] = future['ds'].apply(weather_temp)`\n",
    "    - Any added seasonalities or extra regressors will by default use whatever seasonality_mode is set to, but can be overriden by specifying `mode='additive'` or `mode='multiplicative'` as an argument when adding the seasonality or regressor.\n",
    "    \n",
    "    `m = Prophet(seasonality_mode='multiplicative')\n",
    "    m.add_seasonality('quarterly', period=91.25, fourier_order=8, mode='additive')\n",
    "    m.add_regressor('regressor', mode='additive')`\n",
    " - In other words, the functions that add the regressor forecasts are created automatically. This code would be autogenerated (please see [example](https://github.com/abaranovskis-redsamurai/automation-repo/blob/master/forecast/bikesharing_forecast_prophet_regressor2.ipynb) for context): \n",
    " "
   ]
  },
  {
   "cell_type": "code",
   "execution_count": 30,
   "metadata": {},
   "outputs": [],
   "source": [
    " def weather_temp(ds):\n",
    "    date = (pd.to_datetime(ds)).date()\n",
    "    if d_df[date:].empty:\n",
    "        return future_temp_df[date:]['future_temp'].values[0]\n",
    "    else:\n",
    "        return (d_df[date:]['temp']).values[0]\n",
    "    return 0\n",
    "\n",
    "def weather_condition(ds):\n",
    "    date = (pd.to_datetime(ds)).date()\n",
    "    if d_df[date:].empty:\n",
    "        return future_temp_df[date:]['future_weathersit'].values[0]\n",
    "    else:\n",
    "        return (d_df[date:]['weathersit']).values[0]\n",
    "    return 0\n",
    "\n",
    "m = Prophet()\n",
    "m.add_regressor('temp')\n",
    "m.add_regressor('weathersit')\n",
    "m.fit(d_df)\n",
    "\n",
    "future = m.make_future_dataframe(periods=10)\n",
    "future['temp'] = future['ds'].apply(weather_temp)\n",
    "future['weathersit'] = future['ds'].apply(weather_condition)"
   ]
  },
  {
   "cell_type": "markdown",
   "metadata": {},
   "source": [
    "**Example of Autogenerating Regression Code**\n",
    "\n",
    "Predicting the Temperature using Humidity as a regressor "
   ]
  },
  {
   "cell_type": "code",
   "execution_count": 156,
   "metadata": {},
   "outputs": [
    {
     "data": {
      "text/html": [
       "<div>\n",
       "<style scoped>\n",
       "    .dataframe tbody tr th:only-of-type {\n",
       "        vertical-align: middle;\n",
       "    }\n",
       "\n",
       "    .dataframe tbody tr th {\n",
       "        vertical-align: top;\n",
       "    }\n",
       "\n",
       "    .dataframe thead th {\n",
       "        text-align: right;\n",
       "    }\n",
       "</style>\n",
       "<table border=\"1\" class=\"dataframe\">\n",
       "  <thead>\n",
       "    <tr style=\"text-align: right;\">\n",
       "      <th></th>\n",
       "      <th>instant</th>\n",
       "      <th>dteday</th>\n",
       "      <th>season</th>\n",
       "      <th>yr</th>\n",
       "      <th>mnth</th>\n",
       "      <th>holiday</th>\n",
       "      <th>weekday</th>\n",
       "      <th>workingday</th>\n",
       "      <th>weathersit</th>\n",
       "      <th>temp</th>\n",
       "      <th>atemp</th>\n",
       "      <th>hum</th>\n",
       "      <th>windspeed</th>\n",
       "      <th>casual</th>\n",
       "      <th>registered</th>\n",
       "      <th>cnt</th>\n",
       "    </tr>\n",
       "  </thead>\n",
       "  <tbody>\n",
       "    <tr>\n",
       "      <td>0</td>\n",
       "      <td>1</td>\n",
       "      <td>2011-01-01</td>\n",
       "      <td>1</td>\n",
       "      <td>0</td>\n",
       "      <td>1</td>\n",
       "      <td>0</td>\n",
       "      <td>6</td>\n",
       "      <td>0</td>\n",
       "      <td>2</td>\n",
       "      <td>0.344167</td>\n",
       "      <td>0.363625</td>\n",
       "      <td>0.805833</td>\n",
       "      <td>0.160446</td>\n",
       "      <td>331</td>\n",
       "      <td>654</td>\n",
       "      <td>985</td>\n",
       "    </tr>\n",
       "    <tr>\n",
       "      <td>1</td>\n",
       "      <td>2</td>\n",
       "      <td>2011-01-02</td>\n",
       "      <td>1</td>\n",
       "      <td>0</td>\n",
       "      <td>1</td>\n",
       "      <td>0</td>\n",
       "      <td>0</td>\n",
       "      <td>0</td>\n",
       "      <td>2</td>\n",
       "      <td>0.363478</td>\n",
       "      <td>0.353739</td>\n",
       "      <td>0.696087</td>\n",
       "      <td>0.248539</td>\n",
       "      <td>131</td>\n",
       "      <td>670</td>\n",
       "      <td>801</td>\n",
       "    </tr>\n",
       "    <tr>\n",
       "      <td>2</td>\n",
       "      <td>3</td>\n",
       "      <td>2011-01-03</td>\n",
       "      <td>1</td>\n",
       "      <td>0</td>\n",
       "      <td>1</td>\n",
       "      <td>0</td>\n",
       "      <td>1</td>\n",
       "      <td>1</td>\n",
       "      <td>1</td>\n",
       "      <td>0.196364</td>\n",
       "      <td>0.189405</td>\n",
       "      <td>0.437273</td>\n",
       "      <td>0.248309</td>\n",
       "      <td>120</td>\n",
       "      <td>1229</td>\n",
       "      <td>1349</td>\n",
       "    </tr>\n",
       "    <tr>\n",
       "      <td>3</td>\n",
       "      <td>4</td>\n",
       "      <td>2011-01-04</td>\n",
       "      <td>1</td>\n",
       "      <td>0</td>\n",
       "      <td>1</td>\n",
       "      <td>0</td>\n",
       "      <td>2</td>\n",
       "      <td>1</td>\n",
       "      <td>1</td>\n",
       "      <td>0.200000</td>\n",
       "      <td>0.212122</td>\n",
       "      <td>0.590435</td>\n",
       "      <td>0.160296</td>\n",
       "      <td>108</td>\n",
       "      <td>1454</td>\n",
       "      <td>1562</td>\n",
       "    </tr>\n",
       "    <tr>\n",
       "      <td>4</td>\n",
       "      <td>5</td>\n",
       "      <td>2011-01-05</td>\n",
       "      <td>1</td>\n",
       "      <td>0</td>\n",
       "      <td>1</td>\n",
       "      <td>0</td>\n",
       "      <td>3</td>\n",
       "      <td>1</td>\n",
       "      <td>1</td>\n",
       "      <td>0.226957</td>\n",
       "      <td>0.229270</td>\n",
       "      <td>0.436957</td>\n",
       "      <td>0.186900</td>\n",
       "      <td>82</td>\n",
       "      <td>1518</td>\n",
       "      <td>1600</td>\n",
       "    </tr>\n",
       "  </tbody>\n",
       "</table>\n",
       "</div>"
      ],
      "text/plain": [
       "   instant      dteday  season  yr  mnth  holiday  weekday  workingday  \\\n",
       "0        1  2011-01-01       1   0     1        0        6           0   \n",
       "1        2  2011-01-02       1   0     1        0        0           0   \n",
       "2        3  2011-01-03       1   0     1        0        1           1   \n",
       "3        4  2011-01-04       1   0     1        0        2           1   \n",
       "4        5  2011-01-05       1   0     1        0        3           1   \n",
       "\n",
       "   weathersit      temp     atemp       hum  windspeed  casual  registered  \\\n",
       "0           2  0.344167  0.363625  0.805833   0.160446     331         654   \n",
       "1           2  0.363478  0.353739  0.696087   0.248539     131         670   \n",
       "2           1  0.196364  0.189405  0.437273   0.248309     120        1229   \n",
       "3           1  0.200000  0.212122  0.590435   0.160296     108        1454   \n",
       "4           1  0.226957  0.229270  0.436957   0.186900      82        1518   \n",
       "\n",
       "    cnt  \n",
       "0   985  \n",
       "1   801  \n",
       "2  1349  \n",
       "3  1562  \n",
       "4  1600  "
      ]
     },
     "execution_count": 156,
     "metadata": {},
     "output_type": "execute_result"
    }
   ],
   "source": [
    "df= pd.read_csv('data/weather_day.csv')\n",
    "df.head()"
   ]
  },
  {
   "cell_type": "code",
   "execution_count": 157,
   "metadata": {},
   "outputs": [
    {
     "data": {
      "text/html": [
       "<div>\n",
       "<style scoped>\n",
       "    .dataframe tbody tr th:only-of-type {\n",
       "        vertical-align: middle;\n",
       "    }\n",
       "\n",
       "    .dataframe tbody tr th {\n",
       "        vertical-align: top;\n",
       "    }\n",
       "\n",
       "    .dataframe thead th {\n",
       "        text-align: right;\n",
       "    }\n",
       "</style>\n",
       "<table border=\"1\" class=\"dataframe\">\n",
       "  <thead>\n",
       "    <tr style=\"text-align: right;\">\n",
       "      <th></th>\n",
       "      <th>dteday</th>\n",
       "      <th>temp</th>\n",
       "      <th>hum</th>\n",
       "    </tr>\n",
       "  </thead>\n",
       "  <tbody>\n",
       "    <tr>\n",
       "      <td>0</td>\n",
       "      <td>2011-01-01</td>\n",
       "      <td>0.344167</td>\n",
       "      <td>0.805833</td>\n",
       "    </tr>\n",
       "    <tr>\n",
       "      <td>1</td>\n",
       "      <td>2011-01-02</td>\n",
       "      <td>0.363478</td>\n",
       "      <td>0.696087</td>\n",
       "    </tr>\n",
       "    <tr>\n",
       "      <td>2</td>\n",
       "      <td>2011-01-03</td>\n",
       "      <td>0.196364</td>\n",
       "      <td>0.437273</td>\n",
       "    </tr>\n",
       "    <tr>\n",
       "      <td>3</td>\n",
       "      <td>2011-01-04</td>\n",
       "      <td>0.200000</td>\n",
       "      <td>0.590435</td>\n",
       "    </tr>\n",
       "    <tr>\n",
       "      <td>4</td>\n",
       "      <td>2011-01-05</td>\n",
       "      <td>0.226957</td>\n",
       "      <td>0.436957</td>\n",
       "    </tr>\n",
       "  </tbody>\n",
       "</table>\n",
       "</div>"
      ],
      "text/plain": [
       "      dteday      temp       hum\n",
       "0 2011-01-01  0.344167  0.805833\n",
       "1 2011-01-02  0.363478  0.696087\n",
       "2 2011-01-03  0.196364  0.437273\n",
       "3 2011-01-04  0.200000  0.590435\n",
       "4 2011-01-05  0.226957  0.436957"
      ]
     },
     "execution_count": 157,
     "metadata": {},
     "output_type": "execute_result"
    }
   ],
   "source": [
    "#data cleanup to get data in the correct form\n",
    "weather = df[['dteday', 'temp', 'hum']].copy()\n",
    "weather['dteday'] = pd.to_datetime(weather['dteday'])\n",
    "weather.head()"
   ]
  },
  {
   "cell_type": "markdown",
   "metadata": {},
   "source": [
    "Assuming user can write two queries--one to specify the data they wish to forecast and two the regressor. Splitting up raw data into these two time time series"
   ]
  },
  {
   "cell_type": "code",
   "execution_count": 158,
   "metadata": {},
   "outputs": [
    {
     "data": {
      "text/html": [
       "<div>\n",
       "<style scoped>\n",
       "    .dataframe tbody tr th:only-of-type {\n",
       "        vertical-align: middle;\n",
       "    }\n",
       "\n",
       "    .dataframe tbody tr th {\n",
       "        vertical-align: top;\n",
       "    }\n",
       "\n",
       "    .dataframe thead th {\n",
       "        text-align: right;\n",
       "    }\n",
       "</style>\n",
       "<table border=\"1\" class=\"dataframe\">\n",
       "  <thead>\n",
       "    <tr style=\"text-align: right;\">\n",
       "      <th></th>\n",
       "      <th>ds</th>\n",
       "      <th>y</th>\n",
       "    </tr>\n",
       "  </thead>\n",
       "  <tbody>\n",
       "    <tr>\n",
       "      <td>726</td>\n",
       "      <td>2012-12-27</td>\n",
       "      <td>0.254167</td>\n",
       "    </tr>\n",
       "    <tr>\n",
       "      <td>727</td>\n",
       "      <td>2012-12-28</td>\n",
       "      <td>0.253333</td>\n",
       "    </tr>\n",
       "    <tr>\n",
       "      <td>728</td>\n",
       "      <td>2012-12-29</td>\n",
       "      <td>0.253333</td>\n",
       "    </tr>\n",
       "    <tr>\n",
       "      <td>729</td>\n",
       "      <td>2012-12-30</td>\n",
       "      <td>0.255833</td>\n",
       "    </tr>\n",
       "    <tr>\n",
       "      <td>730</td>\n",
       "      <td>2012-12-31</td>\n",
       "      <td>0.215833</td>\n",
       "    </tr>\n",
       "  </tbody>\n",
       "</table>\n",
       "</div>"
      ],
      "text/plain": [
       "            ds         y\n",
       "726 2012-12-27  0.254167\n",
       "727 2012-12-28  0.253333\n",
       "728 2012-12-29  0.253333\n",
       "729 2012-12-30  0.255833\n",
       "730 2012-12-31  0.215833"
      ]
     },
     "execution_count": 158,
     "metadata": {},
     "output_type": "execute_result"
    }
   ],
   "source": [
    "query_one = weather[['dteday', 'temp']].copy().rename(columns={\"dteday\": \"ds\", \"temp\": \"y\"})\n",
    "query_one.tail()"
   ]
  },
  {
   "cell_type": "code",
   "execution_count": 159,
   "metadata": {},
   "outputs": [
    {
     "data": {
      "text/html": [
       "<div>\n",
       "<style scoped>\n",
       "    .dataframe tbody tr th:only-of-type {\n",
       "        vertical-align: middle;\n",
       "    }\n",
       "\n",
       "    .dataframe tbody tr th {\n",
       "        vertical-align: top;\n",
       "    }\n",
       "\n",
       "    .dataframe thead th {\n",
       "        text-align: right;\n",
       "    }\n",
       "</style>\n",
       "<table border=\"1\" class=\"dataframe\">\n",
       "  <thead>\n",
       "    <tr style=\"text-align: right;\">\n",
       "      <th></th>\n",
       "      <th>ds</th>\n",
       "      <th>y</th>\n",
       "    </tr>\n",
       "  </thead>\n",
       "  <tbody>\n",
       "    <tr>\n",
       "      <td>726</td>\n",
       "      <td>2012-12-27</td>\n",
       "      <td>0.652917</td>\n",
       "    </tr>\n",
       "    <tr>\n",
       "      <td>727</td>\n",
       "      <td>2012-12-28</td>\n",
       "      <td>0.590000</td>\n",
       "    </tr>\n",
       "    <tr>\n",
       "      <td>728</td>\n",
       "      <td>2012-12-29</td>\n",
       "      <td>0.752917</td>\n",
       "    </tr>\n",
       "    <tr>\n",
       "      <td>729</td>\n",
       "      <td>2012-12-30</td>\n",
       "      <td>0.483333</td>\n",
       "    </tr>\n",
       "    <tr>\n",
       "      <td>730</td>\n",
       "      <td>2012-12-31</td>\n",
       "      <td>0.577500</td>\n",
       "    </tr>\n",
       "  </tbody>\n",
       "</table>\n",
       "</div>"
      ],
      "text/plain": [
       "            ds         y\n",
       "726 2012-12-27  0.652917\n",
       "727 2012-12-28  0.590000\n",
       "728 2012-12-29  0.752917\n",
       "729 2012-12-30  0.483333\n",
       "730 2012-12-31  0.577500"
      ]
     },
     "execution_count": 159,
     "metadata": {},
     "output_type": "execute_result"
    }
   ],
   "source": [
    "query_two_regressor = weather[['dteday', 'hum']].copy().rename(columns={\"dteday\": \"ds\", \"hum\": \"y\"})\n",
    "query_two_regressor.tail()"
   ]
  },
  {
   "cell_type": "code",
   "execution_count": 243,
   "metadata": {},
   "outputs": [
    {
     "name": "stderr",
     "output_type": "stream",
     "text": [
      "INFO:fbprophet:Disabling daily seasonality. Run prophet with daily_seasonality=True to override this.\n"
     ]
    },
    {
     "data": {
      "text/html": [
       "<div>\n",
       "<style scoped>\n",
       "    .dataframe tbody tr th:only-of-type {\n",
       "        vertical-align: middle;\n",
       "    }\n",
       "\n",
       "    .dataframe tbody tr th {\n",
       "        vertical-align: top;\n",
       "    }\n",
       "\n",
       "    .dataframe thead th {\n",
       "        text-align: right;\n",
       "    }\n",
       "</style>\n",
       "<table border=\"1\" class=\"dataframe\">\n",
       "  <thead>\n",
       "    <tr style=\"text-align: right;\">\n",
       "      <th></th>\n",
       "      <th>ds</th>\n",
       "      <th>yhat</th>\n",
       "    </tr>\n",
       "  </thead>\n",
       "  <tbody>\n",
       "    <tr>\n",
       "      <td>736</td>\n",
       "      <td>2013-01-06</td>\n",
       "      <td>0.514720</td>\n",
       "    </tr>\n",
       "    <tr>\n",
       "      <td>737</td>\n",
       "      <td>2013-01-07</td>\n",
       "      <td>0.523615</td>\n",
       "    </tr>\n",
       "    <tr>\n",
       "      <td>738</td>\n",
       "      <td>2013-01-08</td>\n",
       "      <td>0.527004</td>\n",
       "    </tr>\n",
       "    <tr>\n",
       "      <td>739</td>\n",
       "      <td>2013-01-09</td>\n",
       "      <td>0.531515</td>\n",
       "    </tr>\n",
       "    <tr>\n",
       "      <td>740</td>\n",
       "      <td>2013-01-10</td>\n",
       "      <td>0.497589</td>\n",
       "    </tr>\n",
       "  </tbody>\n",
       "</table>\n",
       "</div>"
      ],
      "text/plain": [
       "            ds      yhat\n",
       "736 2013-01-06  0.514720\n",
       "737 2013-01-07  0.523615\n",
       "738 2013-01-08  0.527004\n",
       "739 2013-01-09  0.531515\n",
       "740 2013-01-10  0.497589"
      ]
     },
     "execution_count": 243,
     "metadata": {},
     "output_type": "execute_result"
    }
   ],
   "source": [
    "#Use Prophet to forecast the regressor values\n",
    "m = Prophet()\n",
    "m.fit(query_two_regressor)\n",
    "future_regressor = m.make_future_dataframe(periods=10)\n",
    "future.tail()\n",
    "forecast_regressor = m.predict(future_regressor)\n",
    "forecast_regressor[['ds','yhat']].tail()\n"
   ]
  },
  {
   "cell_type": "code",
   "execution_count": 246,
   "metadata": {},
   "outputs": [
    {
     "data": {
      "text/html": [
       "<div>\n",
       "<style scoped>\n",
       "    .dataframe tbody tr th:only-of-type {\n",
       "        vertical-align: middle;\n",
       "    }\n",
       "\n",
       "    .dataframe tbody tr th {\n",
       "        vertical-align: top;\n",
       "    }\n",
       "\n",
       "    .dataframe thead th {\n",
       "        text-align: right;\n",
       "    }\n",
       "</style>\n",
       "<table border=\"1\" class=\"dataframe\">\n",
       "  <thead>\n",
       "    <tr style=\"text-align: right;\">\n",
       "      <th></th>\n",
       "      <th>ds</th>\n",
       "      <th>y</th>\n",
       "      <th>hum</th>\n",
       "    </tr>\n",
       "  </thead>\n",
       "  <tbody>\n",
       "    <tr>\n",
       "      <td>721</td>\n",
       "      <td>2012-12-22</td>\n",
       "      <td>0.265833</td>\n",
       "      <td>0.616434</td>\n",
       "    </tr>\n",
       "    <tr>\n",
       "      <td>722</td>\n",
       "      <td>2012-12-23</td>\n",
       "      <td>0.245833</td>\n",
       "      <td>0.615394</td>\n",
       "    </tr>\n",
       "    <tr>\n",
       "      <td>723</td>\n",
       "      <td>2012-12-24</td>\n",
       "      <td>0.231304</td>\n",
       "      <td>0.615913</td>\n",
       "    </tr>\n",
       "    <tr>\n",
       "      <td>724</td>\n",
       "      <td>2012-12-25</td>\n",
       "      <td>0.291304</td>\n",
       "      <td>0.609751</td>\n",
       "    </tr>\n",
       "    <tr>\n",
       "      <td>725</td>\n",
       "      <td>2012-12-26</td>\n",
       "      <td>0.243333</td>\n",
       "      <td>0.603693</td>\n",
       "    </tr>\n",
       "    <tr>\n",
       "      <td>726</td>\n",
       "      <td>2012-12-27</td>\n",
       "      <td>0.254167</td>\n",
       "      <td>0.558362</td>\n",
       "    </tr>\n",
       "    <tr>\n",
       "      <td>727</td>\n",
       "      <td>2012-12-28</td>\n",
       "      <td>0.253333</td>\n",
       "      <td>0.553422</td>\n",
       "    </tr>\n",
       "    <tr>\n",
       "      <td>728</td>\n",
       "      <td>2012-12-29</td>\n",
       "      <td>0.253333</td>\n",
       "      <td>0.550687</td>\n",
       "    </tr>\n",
       "    <tr>\n",
       "      <td>729</td>\n",
       "      <td>2012-12-30</td>\n",
       "      <td>0.255833</td>\n",
       "      <td>0.550564</td>\n",
       "    </tr>\n",
       "    <tr>\n",
       "      <td>730</td>\n",
       "      <td>2012-12-31</td>\n",
       "      <td>0.215833</td>\n",
       "      <td>0.552885</td>\n",
       "    </tr>\n",
       "    <tr>\n",
       "      <td>731</td>\n",
       "      <td>2013-01-01</td>\n",
       "      <td>NaN</td>\n",
       "      <td>0.549390</td>\n",
       "    </tr>\n",
       "    <tr>\n",
       "      <td>732</td>\n",
       "      <td>2013-01-02</td>\n",
       "      <td>NaN</td>\n",
       "      <td>0.546830</td>\n",
       "    </tr>\n",
       "    <tr>\n",
       "      <td>733</td>\n",
       "      <td>2013-01-03</td>\n",
       "      <td>NaN</td>\n",
       "      <td>0.505774</td>\n",
       "    </tr>\n",
       "    <tr>\n",
       "      <td>734</td>\n",
       "      <td>2013-01-04</td>\n",
       "      <td>NaN</td>\n",
       "      <td>0.505819</td>\n",
       "    </tr>\n",
       "    <tr>\n",
       "      <td>735</td>\n",
       "      <td>2013-01-05</td>\n",
       "      <td>NaN</td>\n",
       "      <td>0.508698</td>\n",
       "    </tr>\n",
       "    <tr>\n",
       "      <td>736</td>\n",
       "      <td>2013-01-06</td>\n",
       "      <td>NaN</td>\n",
       "      <td>0.514720</td>\n",
       "    </tr>\n",
       "    <tr>\n",
       "      <td>737</td>\n",
       "      <td>2013-01-07</td>\n",
       "      <td>NaN</td>\n",
       "      <td>0.523615</td>\n",
       "    </tr>\n",
       "    <tr>\n",
       "      <td>738</td>\n",
       "      <td>2013-01-08</td>\n",
       "      <td>NaN</td>\n",
       "      <td>0.527004</td>\n",
       "    </tr>\n",
       "    <tr>\n",
       "      <td>739</td>\n",
       "      <td>2013-01-09</td>\n",
       "      <td>NaN</td>\n",
       "      <td>0.531515</td>\n",
       "    </tr>\n",
       "    <tr>\n",
       "      <td>740</td>\n",
       "      <td>2013-01-10</td>\n",
       "      <td>NaN</td>\n",
       "      <td>0.497589</td>\n",
       "    </tr>\n",
       "  </tbody>\n",
       "</table>\n",
       "</div>"
      ],
      "text/plain": [
       "            ds         y       hum\n",
       "721 2012-12-22  0.265833  0.616434\n",
       "722 2012-12-23  0.245833  0.615394\n",
       "723 2012-12-24  0.231304  0.615913\n",
       "724 2012-12-25  0.291304  0.609751\n",
       "725 2012-12-26  0.243333  0.603693\n",
       "726 2012-12-27  0.254167  0.558362\n",
       "727 2012-12-28  0.253333  0.553422\n",
       "728 2012-12-29  0.253333  0.550687\n",
       "729 2012-12-30  0.255833  0.550564\n",
       "730 2012-12-31  0.215833  0.552885\n",
       "731 2013-01-01       NaN  0.549390\n",
       "732 2013-01-02       NaN  0.546830\n",
       "733 2013-01-03       NaN  0.505774\n",
       "734 2013-01-04       NaN  0.505819\n",
       "735 2013-01-05       NaN  0.508698\n",
       "736 2013-01-06       NaN  0.514720\n",
       "737 2013-01-07       NaN  0.523615\n",
       "738 2013-01-08       NaN  0.527004\n",
       "739 2013-01-09       NaN  0.531515\n",
       "740 2013-01-10       NaN  0.497589"
      ]
     },
     "execution_count": 246,
     "metadata": {},
     "output_type": "execute_result"
    }
   ],
   "source": [
    "#merge together the data you wish to forecast (query_one) and the forecasted regressor values\n",
    "together = pd.merge(query_one, forecast_regressor[['ds','yhat']], on=['ds'], how=\"right\")\n",
    "together = together.rename(columns={\"yhat\": \"hum\"})\n",
    "together.tail(20)\n"
   ]
  },
  {
   "cell_type": "code",
   "execution_count": 249,
   "metadata": {},
   "outputs": [
    {
     "name": "stderr",
     "output_type": "stream",
     "text": [
      "INFO:fbprophet:Disabling daily seasonality. Run prophet with daily_seasonality=True to override this.\n"
     ]
    },
    {
     "data": {
      "text/html": [
       "<div>\n",
       "<style scoped>\n",
       "    .dataframe tbody tr th:only-of-type {\n",
       "        vertical-align: middle;\n",
       "    }\n",
       "\n",
       "    .dataframe tbody tr th {\n",
       "        vertical-align: top;\n",
       "    }\n",
       "\n",
       "    .dataframe thead th {\n",
       "        text-align: right;\n",
       "    }\n",
       "</style>\n",
       "<table border=\"1\" class=\"dataframe\">\n",
       "  <thead>\n",
       "    <tr style=\"text-align: right;\">\n",
       "      <th></th>\n",
       "      <th>ds</th>\n",
       "      <th>yhat</th>\n",
       "    </tr>\n",
       "  </thead>\n",
       "  <tbody>\n",
       "    <tr>\n",
       "      <td>736</td>\n",
       "      <td>2013-01-06</td>\n",
       "      <td>0.234212</td>\n",
       "    </tr>\n",
       "    <tr>\n",
       "      <td>737</td>\n",
       "      <td>2013-01-07</td>\n",
       "      <td>0.238787</td>\n",
       "    </tr>\n",
       "    <tr>\n",
       "      <td>738</td>\n",
       "      <td>2013-01-08</td>\n",
       "      <td>0.242442</td>\n",
       "    </tr>\n",
       "    <tr>\n",
       "      <td>739</td>\n",
       "      <td>2013-01-09</td>\n",
       "      <td>0.238008</td>\n",
       "    </tr>\n",
       "    <tr>\n",
       "      <td>740</td>\n",
       "      <td>2013-01-10</td>\n",
       "      <td>0.233313</td>\n",
       "    </tr>\n",
       "  </tbody>\n",
       "</table>\n",
       "</div>"
      ],
      "text/plain": [
       "            ds      yhat\n",
       "736 2013-01-06  0.234212\n",
       "737 2013-01-07  0.238787\n",
       "738 2013-01-08  0.242442\n",
       "739 2013-01-09  0.238008\n",
       "740 2013-01-10  0.233313"
      ]
     },
     "execution_count": 249,
     "metadata": {},
     "output_type": "execute_result"
    }
   ],
   "source": [
    "#Make forecast and include the regressor\n",
    "m = Prophet()\n",
    "m.add_regressor('hum')\n",
    "m.fit(together)\n",
    "forecast = m.predict(together)\n",
    "forecast[['ds','yhat']].tail()\n"
   ]
  },
  {
   "cell_type": "markdown",
   "metadata": {},
   "source": [
    "**Stopped working on this idea because I'm not sure if it's really kosher to use prophet to forecast the regressor values to then use to help create the forecast** I'm not sure where/who I should ask about this. "
   ]
  },
  {
   "cell_type": "markdown",
   "metadata": {},
   "source": [
    "**Method Evaluation**"
   ]
  },
  {
   "cell_type": "code",
   "execution_count": null,
   "metadata": {},
   "outputs": [],
   "source": []
  }
 ],
 "metadata": {
  "kernelspec": {
   "display_name": "Python 3",
   "language": "python",
   "name": "python3"
  },
  "language_info": {
   "codemirror_mode": {
    "name": "ipython",
    "version": 3
   },
   "file_extension": ".py",
   "mimetype": "text/x-python",
   "name": "python",
   "nbconvert_exporter": "python",
   "pygments_lexer": "ipython3",
   "version": "3.6.9"
  }
 },
 "nbformat": 4,
 "nbformat_minor": 2
}
