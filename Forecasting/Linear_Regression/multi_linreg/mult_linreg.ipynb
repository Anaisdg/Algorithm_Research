{
 "cells": [
  {
   "cell_type": "markdown",
   "metadata": {},
   "source": [
    "**Model Selection Considerations**"
   ]
  },
  {
   "cell_type": "markdown",
   "metadata": {},
   "source": [
    "| Data Assumptions | Assumptions Test |\n",
    "|------|------|\n",
    "|   Multivariate Timeseries | N/A|\n",
    "|   Linear relationship between dep and indep variables | visual inspection of scatter plots |\n",
    "|   Residuals are normally distributed | Q-Q-Plot or histogram|\n",
    "|   No multicollinearity | Pearson’s bivariate correlation coeff <80|\n",
    "|   Homoscedasticity | residuals have the same finite variance |\n",
    "\n",
    "So far research shows that one should use ARIMAX instead of mult-linreg for time series, but I haven't found a good answer for why yet. (S)ARIMAX is a multiple regression model (S for seasonal) with one or more autoregressive (AR) terms and/or one or more moving average (MA) terms. It is part of pdmarima auto-arima. You include the additional regressors as exogeneous regressors. Example is included in the Auto-Arima notebook. \n",
    "\n",
    "Thoughts: Similarly to linear regression, it could be considered risky/irresponsible? to include multiple linear regression for time series forecasting. On the other hand, we could just have the expectation that the user will do their due dilligence?"
   ]
  },
  {
   "cell_type": "code",
   "execution_count": null,
   "metadata": {},
   "outputs": [],
   "source": []
  }
 ],
 "metadata": {
  "kernelspec": {
   "display_name": "Python 3",
   "language": "python",
   "name": "python3"
  },
  "language_info": {
   "codemirror_mode": {
    "name": "ipython",
    "version": 3
   },
   "file_extension": ".py",
   "mimetype": "text/x-python",
   "name": "python",
   "nbconvert_exporter": "python",
   "pygments_lexer": "ipython3",
   "version": "3.6.9"
  }
 },
 "nbformat": 4,
 "nbformat_minor": 2
}
