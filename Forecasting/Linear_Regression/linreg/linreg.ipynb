{
 "cells": [
  {
   "cell_type": "markdown",
   "metadata": {},
   "source": [
    "**Model Selection Considerations**"
   ]
  },
  {
   "cell_type": "markdown",
   "metadata": {},
   "source": [
    "| Data Assumptions | Assumptions Test |\n",
    "|------|------|\n",
    "|   Univariate Timeseries | N/A|\n",
    "|   Normal Distribution | p-test, visual inspection of histograms, q-q plots, box plots |\n",
    "|   Regular Time Series | domain knowledge/put a groupby on it|\n",
    "|   No autocorrelation  | domain knowledge/visual inspection of AFC plot or lag plot|\n",
    "| errors iid| \n",
    "\n",
    "- The inclusion of lagged terms as regressors does not create a collinearity problem (basically means no autocorrelation)\n",
    "- The error term is a white noise process and is stationary (A white noise process is a random process of random variables that are uncorrelated, have mean zero, and a finite variance. In other words, the noise is true noise)\n",
    "- Your errors are not correlated with each other (Correlation in the error terms suggests that there is additional information in the data that has not been exploited in the current model). The errors should be IID (independent and identically distributed)\n",
    "- The other linear regression assumptions apply:\n",
    "    1. Linearity: The relationship between X and the mean of Y is linear.\n",
    "    2. Homoscedasticity: The variance of residual is the same for any value of X.\n",
    "    3. Independence: Observations are independent of each other.\n",
    "    4. Normality: For any fixed value of X, Y is normally distributed.\n",
    "\n",
    "\n",
    "Data Preperation Steps:\n",
    "- check that error term is a white noise process\n",
    "- remove trend\n",
    "- perform test to check that trend has been removed\n",
    "- remove seasonality\n",
    "- perform test to check that seasonality has been removed\n",
    "- verify that there isn't autocorrelation\n",
    "\n",
    "\n",
    "*Thoughts: it could be considered risky/irresponsible? to include linear regression for time series forecasting. On the other hand, we could just have the expectation that the user will do their due dilligence?*\n",
    "\n",
    "*Or alternatively, linreg could be applied very frequently with small datasets to produce short forecasts...but that's pretty hacky statistically speaking...*\n"
   ]
  },
  {
   "cell_type": "code",
   "execution_count": null,
   "metadata": {},
   "outputs": [],
   "source": []
  }
 ],
 "metadata": {
  "kernelspec": {
   "display_name": "Python 3",
   "language": "python",
   "name": "python3"
  },
  "language_info": {
   "codemirror_mode": {
    "name": "ipython",
    "version": 3
   },
   "file_extension": ".py",
   "mimetype": "text/x-python",
   "name": "python",
   "nbconvert_exporter": "python",
   "pygments_lexer": "ipython3",
   "version": "3.6.9"
  }
 },
 "nbformat": 4,
 "nbformat_minor": 2
}
