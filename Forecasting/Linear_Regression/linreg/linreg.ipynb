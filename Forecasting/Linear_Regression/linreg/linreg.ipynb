{
 "cells": [
  {
   "cell_type": "markdown",
   "metadata": {},
   "source": [
    "**Model Selection Considerations**"
   ]
  },
  {
   "cell_type": "markdown",
   "metadata": {},
   "source": [
    "| Data Assumptions | Assumptions Test |\n",
    "|------|------|\n",
    "|   Univariate Timeseries | N/A|\n",
    "|   Normal Distribution | p-test, visual inspection of histograms, q-q plots, box plots |\n",
    "|   Regular Time Series | domain knowledge/put a groupby on it|\n",
    "|   No autocorrelation  | domain knowledge/visual inspection of AFC plot or lag plot|\n",
    "| errors iid| \n",
    "\n",
    "- The inclusion of lagged terms as regressors does not create a collinearity problem (basically means no autocorrelation)\n",
    "- The error term is a white noise process and is stationary (A white noise process is a random process of random variables that are uncorrelated, have mean zero, and a finite variance. In other words, the noise is true noise)\n",
    "- Your errors are not correlated with each other (Correlation in the error terms suggests that there is additional information in the data that has not been exploited in the current model). The errors should be IID (independent and identically distributed)\n",
    "- The other linear regression assumptions apply:\n",
    "    1. Linearity: The relationship between X and the mean of Y is linear.\n",
    "    2. Homoscedasticity: The variance of residual is the same for any value of X.\n",
    "    3. Independence: Observations are independent of each other.\n",
    "    4. Normality: For any fixed value of X, Y is normally distributed.\n",
    "\n",
    "\n",
    "Data Preperation Steps:\n",
    "- check that error term is a white noise process\n",
    "- remove trend\n",
    "- perform test to check that trend has been removed\n",
    "- remove seasonality\n",
    "- perform test to check that seasonality has been removed\n",
    "- verify that there isn't autocorrelation\n",
    "\n",
    "\n",
    "*Thoughts: it could be considered risky/irresponsible? to include linear regression for time series forecasting. On the other hand, we could just have the expectation that the user will do their due dilligence?*\n",
    "\n",
    "*Or alternatively, linreg could be applied very frequently with small datasets to produce short forecasts...but that's pretty hacky statistically speaking...*\n"
   ]
  },
  {
   "cell_type": "code",
   "execution_count": 322,
   "metadata": {},
   "outputs": [],
   "source": [
    "import pandas as pd\n",
    "import matplotlib.pyplot as plt \n",
    "from pmdarima import model_selection \n",
    "from sklearn.linear_model import LinearRegression\n",
    "import numpy as np\n",
    "from sklearn.metrics import mean_squared_error"
   ]
  },
  {
   "cell_type": "code",
   "execution_count": 323,
   "metadata": {},
   "outputs": [
    {
     "data": {
      "text/html": [
       "<div>\n",
       "<style scoped>\n",
       "    .dataframe tbody tr th:only-of-type {\n",
       "        vertical-align: middle;\n",
       "    }\n",
       "\n",
       "    .dataframe tbody tr th {\n",
       "        vertical-align: top;\n",
       "    }\n",
       "\n",
       "    .dataframe thead th {\n",
       "        text-align: right;\n",
       "    }\n",
       "</style>\n",
       "<table border=\"1\" class=\"dataframe\">\n",
       "  <thead>\n",
       "    <tr style=\"text-align: right;\">\n",
       "      <th></th>\n",
       "      <th>ds</th>\n",
       "      <th>y</th>\n",
       "      <th>x</th>\n",
       "    </tr>\n",
       "  </thead>\n",
       "  <tbody>\n",
       "    <tr>\n",
       "      <td>0</td>\n",
       "      <td>2007-12-10</td>\n",
       "      <td>9.590761</td>\n",
       "      <td>0</td>\n",
       "    </tr>\n",
       "    <tr>\n",
       "      <td>1</td>\n",
       "      <td>2007-12-11</td>\n",
       "      <td>8.519590</td>\n",
       "      <td>1</td>\n",
       "    </tr>\n",
       "    <tr>\n",
       "      <td>2</td>\n",
       "      <td>2007-12-12</td>\n",
       "      <td>8.183677</td>\n",
       "      <td>2</td>\n",
       "    </tr>\n",
       "    <tr>\n",
       "      <td>3</td>\n",
       "      <td>2007-12-13</td>\n",
       "      <td>8.072467</td>\n",
       "      <td>3</td>\n",
       "    </tr>\n",
       "    <tr>\n",
       "      <td>4</td>\n",
       "      <td>2007-12-14</td>\n",
       "      <td>7.893572</td>\n",
       "      <td>4</td>\n",
       "    </tr>\n",
       "  </tbody>\n",
       "</table>\n",
       "</div>"
      ],
      "text/plain": [
       "           ds         y  x\n",
       "0  2007-12-10  9.590761  0\n",
       "1  2007-12-11  8.519590  1\n",
       "2  2007-12-12  8.183677  2\n",
       "3  2007-12-13  8.072467  3\n",
       "4  2007-12-14  7.893572  4"
      ]
     },
     "execution_count": 323,
     "metadata": {},
     "output_type": "execute_result"
    }
   ],
   "source": [
    "df = pd.read_csv('../data/example_wp_log_peyton_manning.csv')\n",
    "df['x'] = df.index\n",
    "df.head()\n"
   ]
  },
  {
   "cell_type": "code",
   "execution_count": 324,
   "metadata": {},
   "outputs": [
    {
     "data": {
      "text/plain": [
       "<matplotlib.axes._subplots.AxesSubplot at 0x13a35db38>"
      ]
     },
     "execution_count": 324,
     "metadata": {},
     "output_type": "execute_result"
    },
    {
     "data": {
      "image/png": "[encoded data removed]",
      "text/plain": [
       "<Figure size 432x288 with 1 Axes>"
      ]
     },
     "metadata": {
      "needs_background": "light"
     },
     "output_type": "display_data"
    }
   ],
   "source": [
    "df[['ds','y']].plot()"
   ]
  },
  {
   "cell_type": "code",
   "execution_count": 325,
   "metadata": {},
   "outputs": [],
   "source": [
    "ts = 2000\n",
    "train,test = train_test_split(df, test_size=0.2)"
   ]
  },
  {
   "cell_type": "code",
   "execution_count": 326,
   "metadata": {},
   "outputs": [
    {
     "name": "stdout",
     "output_type": "stream",
     "text": [
      "length y: (2324, 1) \n",
      "length x: (2324, 1)\n",
      "length y_test: (581, 1) \n",
      "length x_test: (581, 1)\n"
     ]
    }
   ],
   "source": [
    "x = train['x'].values.reshape(-1,1)\n",
    "y = train['y'].values.reshape(-1,1)\n",
    "x_test = test['x'].values.reshape(-1,1)\n",
    "y_test = test['y'].values.reshape(-1,1)\n",
    "print(f\"length y: {y.shape} \\nlength x: {x.shape}\")\n",
    "print(f\"length y_test: {y_test.shape} \\nlength x_test: {x_test.shape}\")"
   ]
  },
  {
   "cell_type": "code",
   "execution_count": 327,
   "metadata": {},
   "outputs": [],
   "source": [
    "regressor = LinearRegression()\n",
    "regressor.fit(x,y)\n",
    "Y_pred = regressor.predict(x_test)  # make predictions"
   ]
  },
  {
   "cell_type": "markdown",
   "metadata": {},
   "source": [
    "**Output**"
   ]
  },
  {
   "cell_type": "code",
   "execution_count": 351,
   "metadata": {},
   "outputs": [
    {
     "data": {
      "text/plain": [
       "array([[8.11619099],\n",
       "       [8.1991143 ],\n",
       "       [8.14665008],\n",
       "       [8.0461351 ],\n",
       "       [8.14590414]])"
      ]
     },
     "execution_count": 351,
     "metadata": {},
     "output_type": "execute_result"
    }
   ],
   "source": [
    "Y_pred[0:5]"
   ]
  },
  {
   "cell_type": "code",
   "execution_count": 328,
   "metadata": {},
   "outputs": [
    {
     "name": "stdout",
     "output_type": "stream",
     "text": [
      "[8.0409757]\n",
      "[[6.2161397e-05]]\n"
     ]
    }
   ],
   "source": [
    "#To retrieve the intercept:\n",
    "print(regressor.intercept_)\n",
    "#For retrieving the slope:\n",
    "print(regressor.coef_)"
   ]
  },
  {
   "cell_type": "code",
   "execution_count": 331,
   "metadata": {},
   "outputs": [
    {
     "data": {
      "text/plain": [
       "[<matplotlib.lines.Line2D at 0x13a4665f8>]"
      ]
     },
     "execution_count": 331,
     "metadata": {},
     "output_type": "execute_result"
    },
    {
     "data": {
      "image/png": "[encoded data removed]",
      "text/plain": [
       "<Figure size 432x288 with 1 Axes>"
      ]
     },
     "metadata": {
      "needs_background": "light"
     },
     "output_type": "display_data"
    }
   ],
   "source": [
    "df[['ds','y']].plot()\n",
    "plt.plot(x_test, Y_pred, color='red', linewidth=2)"
   ]
  },
  {
   "cell_type": "code",
   "execution_count": 334,
   "metadata": {},
   "outputs": [
    {
     "name": "stdout",
     "output_type": "stream",
     "text": [
      "Root Mean Squared Error: 0.8909250863752904\n"
     ]
    },
    {
     "data": {
      "text/html": [
       "<div>\n",
       "<style scoped>\n",
       "    .dataframe tbody tr th:only-of-type {\n",
       "        vertical-align: middle;\n",
       "    }\n",
       "\n",
       "    .dataframe tbody tr th {\n",
       "        vertical-align: top;\n",
       "    }\n",
       "\n",
       "    .dataframe thead th {\n",
       "        text-align: right;\n",
       "    }\n",
       "</style>\n",
       "<table border=\"1\" class=\"dataframe\">\n",
       "  <thead>\n",
       "    <tr style=\"text-align: right;\">\n",
       "      <th></th>\n",
       "      <th>Actual</th>\n",
       "      <th>Predicted</th>\n",
       "    </tr>\n",
       "  </thead>\n",
       "  <tbody>\n",
       "    <tr>\n",
       "      <td>0</td>\n",
       "      <td>7.237059</td>\n",
       "      <td>8.116191</td>\n",
       "    </tr>\n",
       "    <tr>\n",
       "      <td>1</td>\n",
       "      <td>8.396606</td>\n",
       "      <td>8.199114</td>\n",
       "    </tr>\n",
       "    <tr>\n",
       "      <td>2</td>\n",
       "      <td>8.510974</td>\n",
       "      <td>8.146650</td>\n",
       "    </tr>\n",
       "    <tr>\n",
       "      <td>3</td>\n",
       "      <td>7.819636</td>\n",
       "      <td>8.046135</td>\n",
       "    </tr>\n",
       "    <tr>\n",
       "      <td>4</td>\n",
       "      <td>9.807252</td>\n",
       "      <td>8.145904</td>\n",
       "    </tr>\n",
       "  </tbody>\n",
       "</table>\n",
       "</div>"
      ],
      "text/plain": [
       "     Actual  Predicted\n",
       "0  7.237059   8.116191\n",
       "1  8.396606   8.199114\n",
       "2  8.510974   8.146650\n",
       "3  7.819636   8.046135\n",
       "4  9.807252   8.145904"
      ]
     },
     "execution_count": 334,
     "metadata": {},
     "output_type": "execute_result"
    }
   ],
   "source": [
    "df_compare = pd.DataFrame({'Actual': y_test.flatten(), 'Predicted': Y_pred.flatten()})\n",
    "print('Root Mean Squared Error:', np.sqrt(mean_squared_error(y_test, Y_pred)))\n",
    "df_compare.head()"
   ]
  },
  {
   "cell_type": "code",
   "execution_count": null,
   "metadata": {},
   "outputs": [],
   "source": []
  }
 ],
 "metadata": {
  "kernelspec": {
   "display_name": "Python 3",
   "language": "python",
   "name": "python3"
  },
  "language_info": {
   "codemirror_mode": {
    "name": "ipython",
    "version": 3
   },
   "file_extension": ".py",
   "mimetype": "text/x-python",
   "name": "python",
   "nbconvert_exporter": "python",
   "pygments_lexer": "ipython3",
   "version": "3.6.9"
  }
 },
 "nbformat": 4,
 "nbformat_minor": 2
}
